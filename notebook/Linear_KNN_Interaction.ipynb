{
 "cells": [
  {
   "cell_type": "markdown",
   "id": "63072209",
   "metadata": {},
   "source": [
    "# 1)"
   ]
  },
  {
   "cell_type": "markdown",
   "id": "82a012db",
   "metadata": {},
   "source": [
    "# B) Exploring the data"
   ]
  },
  {
   "cell_type": "code",
   "execution_count": 1,
   "id": "12a27400",
   "metadata": {},
   "outputs": [],
   "source": [
    "import pandas as pd\n",
    "\n",
    "import matplotlib.pyplot as plt\n",
    "import seaborn as sns\n",
    "import numpy as np\n",
    "from sklearn.neighbors import KNeighborsClassifier, NearestNeighbors, KNeighborsRegressor\n",
    "from sklearn import metrics\n",
    "from sklearn.metrics import accuracy_score\n",
    "import math\n",
    "from tabulate import tabulate\n",
    "import statsmodels.formula.api as smf\n",
    "from sklearn.model_selection import train_test_split\n",
    "\n",
    "from sklearn.preprocessing import PolynomialFeatures\n",
    "from sklearn import linear_model\n",
    "from statsmodels.tools.eval_measures import rmse\n",
    "\n",
    "from sklearn.metrics import mean_squared_error\n",
    "from sklearn.preprocessing import StandardScaler"
   ]
  },
  {
   "cell_type": "code",
   "execution_count": 2,
   "id": "071169ca",
   "metadata": {},
   "outputs": [
    {
     "data": {
      "text/plain": [
       "'/Users/prayasdixit/Downloads/DSCI_552/notebook'"
      ]
     },
     "execution_count": 2,
     "metadata": {},
     "output_type": "execute_result"
    }
   ],
   "source": [
    "pwd"
   ]
  },
  {
   "cell_type": "code",
   "execution_count": 3,
   "id": "8de3027b",
   "metadata": {},
   "outputs": [],
   "source": [
    "data=pd.read_excel('../data/CCPP/Folds5x2_pp.xlsx')"
   ]
  },
  {
   "cell_type": "markdown",
   "id": "05641d0f",
   "metadata": {},
   "source": [
    "## B)i)"
   ]
  },
  {
   "cell_type": "code",
   "execution_count": 4,
   "id": "a873673f",
   "metadata": {},
   "outputs": [
    {
     "data": {
      "text/html": [
       "<div>\n",
       "<style scoped>\n",
       "    .dataframe tbody tr th:only-of-type {\n",
       "        vertical-align: middle;\n",
       "    }\n",
       "\n",
       "    .dataframe tbody tr th {\n",
       "        vertical-align: top;\n",
       "    }\n",
       "\n",
       "    .dataframe thead th {\n",
       "        text-align: right;\n",
       "    }\n",
       "</style>\n",
       "<table border=\"1\" class=\"dataframe\">\n",
       "  <thead>\n",
       "    <tr style=\"text-align: right;\">\n",
       "      <th></th>\n",
       "      <th>AT</th>\n",
       "      <th>V</th>\n",
       "      <th>AP</th>\n",
       "      <th>RH</th>\n",
       "      <th>PE</th>\n",
       "    </tr>\n",
       "  </thead>\n",
       "  <tbody>\n",
       "    <tr>\n",
       "      <th>0</th>\n",
       "      <td>14.96</td>\n",
       "      <td>41.76</td>\n",
       "      <td>1024.07</td>\n",
       "      <td>73.17</td>\n",
       "      <td>463.26</td>\n",
       "    </tr>\n",
       "    <tr>\n",
       "      <th>1</th>\n",
       "      <td>25.18</td>\n",
       "      <td>62.96</td>\n",
       "      <td>1020.04</td>\n",
       "      <td>59.08</td>\n",
       "      <td>444.37</td>\n",
       "    </tr>\n",
       "    <tr>\n",
       "      <th>2</th>\n",
       "      <td>5.11</td>\n",
       "      <td>39.40</td>\n",
       "      <td>1012.16</td>\n",
       "      <td>92.14</td>\n",
       "      <td>488.56</td>\n",
       "    </tr>\n",
       "    <tr>\n",
       "      <th>3</th>\n",
       "      <td>20.86</td>\n",
       "      <td>57.32</td>\n",
       "      <td>1010.24</td>\n",
       "      <td>76.64</td>\n",
       "      <td>446.48</td>\n",
       "    </tr>\n",
       "    <tr>\n",
       "      <th>4</th>\n",
       "      <td>10.82</td>\n",
       "      <td>37.50</td>\n",
       "      <td>1009.23</td>\n",
       "      <td>96.62</td>\n",
       "      <td>473.90</td>\n",
       "    </tr>\n",
       "  </tbody>\n",
       "</table>\n",
       "</div>"
      ],
      "text/plain": [
       "      AT      V       AP     RH      PE\n",
       "0  14.96  41.76  1024.07  73.17  463.26\n",
       "1  25.18  62.96  1020.04  59.08  444.37\n",
       "2   5.11  39.40  1012.16  92.14  488.56\n",
       "3  20.86  57.32  1010.24  76.64  446.48\n",
       "4  10.82  37.50  1009.23  96.62  473.90"
      ]
     },
     "execution_count": 4,
     "metadata": {},
     "output_type": "execute_result"
    }
   ],
   "source": [
    "data.head()"
   ]
  },
  {
   "cell_type": "code",
   "execution_count": 5,
   "id": "fccd567c",
   "metadata": {},
   "outputs": [
    {
     "data": {
      "text/plain": [
       "AT    0\n",
       "V     0\n",
       "AP    0\n",
       "RH    0\n",
       "PE    0\n",
       "dtype: int64"
      ]
     },
     "execution_count": 5,
     "metadata": {},
     "output_type": "execute_result"
    }
   ],
   "source": [
    "data.isna().sum()"
   ]
  },
  {
   "cell_type": "code",
   "execution_count": 6,
   "id": "65bf1b26",
   "metadata": {},
   "outputs": [
    {
     "data": {
      "text/plain": [
       "(9568, 5)"
      ]
     },
     "execution_count": 6,
     "metadata": {},
     "output_type": "execute_result"
    }
   ],
   "source": [
    "data.shape\n"
   ]
  },
  {
   "cell_type": "markdown",
   "id": "6014c6df",
   "metadata": {},
   "source": [
    "#### There is 9568 rows and 5 columns in the data set. Column represents the different parameters of Power plant and rows are the readings for these parameters from year 2006-2011"
   ]
  },
  {
   "cell_type": "markdown",
   "id": "91f4f383",
   "metadata": {},
   "source": [
    "## B)ii)"
   ]
  },
  {
   "cell_type": "code",
   "execution_count": 7,
   "id": "8f02ee49",
   "metadata": {},
   "outputs": [
    {
     "data": {
      "text/plain": [
       "<seaborn.axisgrid.PairGrid at 0x7f8464006970>"
      ]
     },
     "execution_count": 7,
     "metadata": {},
     "output_type": "execute_result"
    },
    {
     "data": {
      "image/png": "[encoded data removed]",
      "text/plain": [
       "<Figure size 775.125x720 with 20 Axes>"
      ]
     },
     "metadata": {
      "needs_background": "light"
     },
     "output_type": "display_data"
    }
   ],
   "source": [
    "sns.pairplot(data, hue='PE')"
   ]
  },
  {
   "cell_type": "markdown",
   "id": "89d47c37",
   "metadata": {},
   "source": [
    "#### Here we can see the 'PE' value is high at low 'AT' Temperature value.\n",
    "#### Same can be referred for 'V' exhaust vaccum i.e 'PE' value is high for comparatively low values of V and as V increases the PE value decreases."
   ]
  },
  {
   "cell_type": "markdown",
   "id": "275aee66",
   "metadata": {},
   "source": [
    "## B)iii)"
   ]
  },
  {
   "cell_type": "code",
   "execution_count": 8,
   "id": "d3ee75fa",
   "metadata": {},
   "outputs": [],
   "source": [
    "df=data.describe()"
   ]
  },
  {
   "cell_type": "code",
   "execution_count": 9,
   "id": "601ed5d5",
   "metadata": {},
   "outputs": [
    {
     "data": {
      "text/html": [
       "<div>\n",
       "<style scoped>\n",
       "    .dataframe tbody tr th:only-of-type {\n",
       "        vertical-align: middle;\n",
       "    }\n",
       "\n",
       "    .dataframe tbody tr th {\n",
       "        vertical-align: top;\n",
       "    }\n",
       "\n",
       "    .dataframe thead th {\n",
       "        text-align: right;\n",
       "    }\n",
       "</style>\n",
       "<table border=\"1\" class=\"dataframe\">\n",
       "  <thead>\n",
       "    <tr style=\"text-align: right;\">\n",
       "      <th></th>\n",
       "      <th>AT</th>\n",
       "      <th>V</th>\n",
       "      <th>AP</th>\n",
       "      <th>RH</th>\n",
       "      <th>PE</th>\n",
       "    </tr>\n",
       "  </thead>\n",
       "  <tbody>\n",
       "    <tr>\n",
       "      <th>count</th>\n",
       "      <td>9568.000000</td>\n",
       "      <td>9568.000000</td>\n",
       "      <td>9568.000000</td>\n",
       "      <td>9568.000000</td>\n",
       "      <td>9568.000000</td>\n",
       "    </tr>\n",
       "    <tr>\n",
       "      <th>mean</th>\n",
       "      <td>19.651231</td>\n",
       "      <td>54.305804</td>\n",
       "      <td>1013.259078</td>\n",
       "      <td>73.308978</td>\n",
       "      <td>454.365009</td>\n",
       "    </tr>\n",
       "    <tr>\n",
       "      <th>std</th>\n",
       "      <td>7.452473</td>\n",
       "      <td>12.707893</td>\n",
       "      <td>5.938784</td>\n",
       "      <td>14.600269</td>\n",
       "      <td>17.066995</td>\n",
       "    </tr>\n",
       "    <tr>\n",
       "      <th>min</th>\n",
       "      <td>1.810000</td>\n",
       "      <td>25.360000</td>\n",
       "      <td>992.890000</td>\n",
       "      <td>25.560000</td>\n",
       "      <td>420.260000</td>\n",
       "    </tr>\n",
       "    <tr>\n",
       "      <th>25%</th>\n",
       "      <td>13.510000</td>\n",
       "      <td>41.740000</td>\n",
       "      <td>1009.100000</td>\n",
       "      <td>63.327500</td>\n",
       "      <td>439.750000</td>\n",
       "    </tr>\n",
       "    <tr>\n",
       "      <th>50%</th>\n",
       "      <td>20.345000</td>\n",
       "      <td>52.080000</td>\n",
       "      <td>1012.940000</td>\n",
       "      <td>74.975000</td>\n",
       "      <td>451.550000</td>\n",
       "    </tr>\n",
       "    <tr>\n",
       "      <th>75%</th>\n",
       "      <td>25.720000</td>\n",
       "      <td>66.540000</td>\n",
       "      <td>1017.260000</td>\n",
       "      <td>84.830000</td>\n",
       "      <td>468.430000</td>\n",
       "    </tr>\n",
       "    <tr>\n",
       "      <th>max</th>\n",
       "      <td>37.110000</td>\n",
       "      <td>81.560000</td>\n",
       "      <td>1033.300000</td>\n",
       "      <td>100.160000</td>\n",
       "      <td>495.760000</td>\n",
       "    </tr>\n",
       "  </tbody>\n",
       "</table>\n",
       "</div>"
      ],
      "text/plain": [
       "                AT            V           AP           RH           PE\n",
       "count  9568.000000  9568.000000  9568.000000  9568.000000  9568.000000\n",
       "mean     19.651231    54.305804  1013.259078    73.308978   454.365009\n",
       "std       7.452473    12.707893     5.938784    14.600269    17.066995\n",
       "min       1.810000    25.360000   992.890000    25.560000   420.260000\n",
       "25%      13.510000    41.740000  1009.100000    63.327500   439.750000\n",
       "50%      20.345000    52.080000  1012.940000    74.975000   451.550000\n",
       "75%      25.720000    66.540000  1017.260000    84.830000   468.430000\n",
       "max      37.110000    81.560000  1033.300000   100.160000   495.760000"
      ]
     },
     "execution_count": 9,
     "metadata": {},
     "output_type": "execute_result"
    }
   ],
   "source": [
    "df"
   ]
  },
  {
   "cell_type": "code",
   "execution_count": 10,
   "id": "a9953d82",
   "metadata": {},
   "outputs": [],
   "source": [
    "df.loc['range']=df.loc['max']-df.loc['min']"
   ]
  },
  {
   "cell_type": "code",
   "execution_count": 11,
   "id": "ac405757",
   "metadata": {},
   "outputs": [
    {
     "data": {
      "text/html": [
       "<div>\n",
       "<style scoped>\n",
       "    .dataframe tbody tr th:only-of-type {\n",
       "        vertical-align: middle;\n",
       "    }\n",
       "\n",
       "    .dataframe tbody tr th {\n",
       "        vertical-align: top;\n",
       "    }\n",
       "\n",
       "    .dataframe thead th {\n",
       "        text-align: right;\n",
       "    }\n",
       "</style>\n",
       "<table border=\"1\" class=\"dataframe\">\n",
       "  <thead>\n",
       "    <tr style=\"text-align: right;\">\n",
       "      <th></th>\n",
       "      <th>AT</th>\n",
       "      <th>V</th>\n",
       "      <th>AP</th>\n",
       "      <th>RH</th>\n",
       "      <th>PE</th>\n",
       "    </tr>\n",
       "  </thead>\n",
       "  <tbody>\n",
       "    <tr>\n",
       "      <th>count</th>\n",
       "      <td>9568.000000</td>\n",
       "      <td>9568.000000</td>\n",
       "      <td>9568.000000</td>\n",
       "      <td>9568.000000</td>\n",
       "      <td>9568.000000</td>\n",
       "    </tr>\n",
       "    <tr>\n",
       "      <th>mean</th>\n",
       "      <td>19.651231</td>\n",
       "      <td>54.305804</td>\n",
       "      <td>1013.259078</td>\n",
       "      <td>73.308978</td>\n",
       "      <td>454.365009</td>\n",
       "    </tr>\n",
       "    <tr>\n",
       "      <th>std</th>\n",
       "      <td>7.452473</td>\n",
       "      <td>12.707893</td>\n",
       "      <td>5.938784</td>\n",
       "      <td>14.600269</td>\n",
       "      <td>17.066995</td>\n",
       "    </tr>\n",
       "    <tr>\n",
       "      <th>min</th>\n",
       "      <td>1.810000</td>\n",
       "      <td>25.360000</td>\n",
       "      <td>992.890000</td>\n",
       "      <td>25.560000</td>\n",
       "      <td>420.260000</td>\n",
       "    </tr>\n",
       "    <tr>\n",
       "      <th>25%</th>\n",
       "      <td>13.510000</td>\n",
       "      <td>41.740000</td>\n",
       "      <td>1009.100000</td>\n",
       "      <td>63.327500</td>\n",
       "      <td>439.750000</td>\n",
       "    </tr>\n",
       "    <tr>\n",
       "      <th>50%</th>\n",
       "      <td>20.345000</td>\n",
       "      <td>52.080000</td>\n",
       "      <td>1012.940000</td>\n",
       "      <td>74.975000</td>\n",
       "      <td>451.550000</td>\n",
       "    </tr>\n",
       "    <tr>\n",
       "      <th>75%</th>\n",
       "      <td>25.720000</td>\n",
       "      <td>66.540000</td>\n",
       "      <td>1017.260000</td>\n",
       "      <td>84.830000</td>\n",
       "      <td>468.430000</td>\n",
       "    </tr>\n",
       "    <tr>\n",
       "      <th>max</th>\n",
       "      <td>37.110000</td>\n",
       "      <td>81.560000</td>\n",
       "      <td>1033.300000</td>\n",
       "      <td>100.160000</td>\n",
       "      <td>495.760000</td>\n",
       "    </tr>\n",
       "    <tr>\n",
       "      <th>range</th>\n",
       "      <td>35.300000</td>\n",
       "      <td>56.200000</td>\n",
       "      <td>40.410000</td>\n",
       "      <td>74.600000</td>\n",
       "      <td>75.500000</td>\n",
       "    </tr>\n",
       "  </tbody>\n",
       "</table>\n",
       "</div>"
      ],
      "text/plain": [
       "                AT            V           AP           RH           PE\n",
       "count  9568.000000  9568.000000  9568.000000  9568.000000  9568.000000\n",
       "mean     19.651231    54.305804  1013.259078    73.308978   454.365009\n",
       "std       7.452473    12.707893     5.938784    14.600269    17.066995\n",
       "min       1.810000    25.360000   992.890000    25.560000   420.260000\n",
       "25%      13.510000    41.740000  1009.100000    63.327500   439.750000\n",
       "50%      20.345000    52.080000  1012.940000    74.975000   451.550000\n",
       "75%      25.720000    66.540000  1017.260000    84.830000   468.430000\n",
       "max      37.110000    81.560000  1033.300000   100.160000   495.760000\n",
       "range    35.300000    56.200000    40.410000    74.600000    75.500000"
      ]
     },
     "execution_count": 11,
     "metadata": {},
     "output_type": "execute_result"
    }
   ],
   "source": [
    "df"
   ]
  },
  {
   "cell_type": "code",
   "execution_count": 12,
   "id": "0cb06b9c",
   "metadata": {},
   "outputs": [],
   "source": [
    "df.loc['InterQuartileRange']=df.loc['75%']-df.loc['25%']"
   ]
  },
  {
   "cell_type": "code",
   "execution_count": 13,
   "id": "076e33b9",
   "metadata": {},
   "outputs": [],
   "source": [
    "df=df.loc[['mean','min','25%','50%','75%','max','range','InterQuartileRange'],:]"
   ]
  },
  {
   "cell_type": "code",
   "execution_count": 14,
   "id": "6fc3ced6",
   "metadata": {},
   "outputs": [
    {
     "data": {
      "text/html": [
       "<div>\n",
       "<style scoped>\n",
       "    .dataframe tbody tr th:only-of-type {\n",
       "        vertical-align: middle;\n",
       "    }\n",
       "\n",
       "    .dataframe tbody tr th {\n",
       "        vertical-align: top;\n",
       "    }\n",
       "\n",
       "    .dataframe thead th {\n",
       "        text-align: right;\n",
       "    }\n",
       "</style>\n",
       "<table border=\"1\" class=\"dataframe\">\n",
       "  <thead>\n",
       "    <tr style=\"text-align: right;\">\n",
       "      <th></th>\n",
       "      <th>AT</th>\n",
       "      <th>V</th>\n",
       "      <th>AP</th>\n",
       "      <th>RH</th>\n",
       "      <th>PE</th>\n",
       "    </tr>\n",
       "  </thead>\n",
       "  <tbody>\n",
       "    <tr>\n",
       "      <th>mean</th>\n",
       "      <td>19.651231</td>\n",
       "      <td>54.305804</td>\n",
       "      <td>1013.259078</td>\n",
       "      <td>73.308978</td>\n",
       "      <td>454.365009</td>\n",
       "    </tr>\n",
       "    <tr>\n",
       "      <th>min</th>\n",
       "      <td>1.810000</td>\n",
       "      <td>25.360000</td>\n",
       "      <td>992.890000</td>\n",
       "      <td>25.560000</td>\n",
       "      <td>420.260000</td>\n",
       "    </tr>\n",
       "    <tr>\n",
       "      <th>25%</th>\n",
       "      <td>13.510000</td>\n",
       "      <td>41.740000</td>\n",
       "      <td>1009.100000</td>\n",
       "      <td>63.327500</td>\n",
       "      <td>439.750000</td>\n",
       "    </tr>\n",
       "    <tr>\n",
       "      <th>50%</th>\n",
       "      <td>20.345000</td>\n",
       "      <td>52.080000</td>\n",
       "      <td>1012.940000</td>\n",
       "      <td>74.975000</td>\n",
       "      <td>451.550000</td>\n",
       "    </tr>\n",
       "    <tr>\n",
       "      <th>75%</th>\n",
       "      <td>25.720000</td>\n",
       "      <td>66.540000</td>\n",
       "      <td>1017.260000</td>\n",
       "      <td>84.830000</td>\n",
       "      <td>468.430000</td>\n",
       "    </tr>\n",
       "    <tr>\n",
       "      <th>max</th>\n",
       "      <td>37.110000</td>\n",
       "      <td>81.560000</td>\n",
       "      <td>1033.300000</td>\n",
       "      <td>100.160000</td>\n",
       "      <td>495.760000</td>\n",
       "    </tr>\n",
       "    <tr>\n",
       "      <th>range</th>\n",
       "      <td>35.300000</td>\n",
       "      <td>56.200000</td>\n",
       "      <td>40.410000</td>\n",
       "      <td>74.600000</td>\n",
       "      <td>75.500000</td>\n",
       "    </tr>\n",
       "    <tr>\n",
       "      <th>InterQuartileRange</th>\n",
       "      <td>12.210000</td>\n",
       "      <td>24.800000</td>\n",
       "      <td>8.160000</td>\n",
       "      <td>21.502500</td>\n",
       "      <td>28.680000</td>\n",
       "    </tr>\n",
       "  </tbody>\n",
       "</table>\n",
       "</div>"
      ],
      "text/plain": [
       "                           AT          V           AP          RH          PE\n",
       "mean                19.651231  54.305804  1013.259078   73.308978  454.365009\n",
       "min                  1.810000  25.360000   992.890000   25.560000  420.260000\n",
       "25%                 13.510000  41.740000  1009.100000   63.327500  439.750000\n",
       "50%                 20.345000  52.080000  1012.940000   74.975000  451.550000\n",
       "75%                 25.720000  66.540000  1017.260000   84.830000  468.430000\n",
       "max                 37.110000  81.560000  1033.300000  100.160000  495.760000\n",
       "range               35.300000  56.200000    40.410000   74.600000   75.500000\n",
       "InterQuartileRange  12.210000  24.800000     8.160000   21.502500   28.680000"
      ]
     },
     "execution_count": 14,
     "metadata": {},
     "output_type": "execute_result"
    }
   ],
   "source": [
    "df"
   ]
  },
  {
   "cell_type": "code",
   "execution_count": 15,
   "id": "8bbf5040",
   "metadata": {},
   "outputs": [
    {
     "name": "stdout",
     "output_type": "stream",
     "text": [
      "+--------------------+---------+---------+---------+----------+---------+\n",
      "| mean               | 19.6512 | 54.3058 | 1013.26 |  73.309  | 454.365 |\n",
      "+--------------------+---------+---------+---------+----------+---------+\n",
      "| min                |  1.81   | 25.36   |  992.89 |  25.56   | 420.26  |\n",
      "+--------------------+---------+---------+---------+----------+---------+\n",
      "| 25%                | 13.51   | 41.74   | 1009.1  |  63.3275 | 439.75  |\n",
      "+--------------------+---------+---------+---------+----------+---------+\n",
      "| 50%                | 20.345  | 52.08   | 1012.94 |  74.975  | 451.55  |\n",
      "+--------------------+---------+---------+---------+----------+---------+\n",
      "| 75%                | 25.72   | 66.54   | 1017.26 |  84.83   | 468.43  |\n",
      "+--------------------+---------+---------+---------+----------+---------+\n",
      "| max                | 37.11   | 81.56   | 1033.3  | 100.16   | 495.76  |\n",
      "+--------------------+---------+---------+---------+----------+---------+\n",
      "| range              | 35.3    | 56.2    |   40.41 |  74.6    |  75.5   |\n",
      "+--------------------+---------+---------+---------+----------+---------+\n",
      "| InterQuartileRange | 12.21   | 24.8    |    8.16 |  21.5025 |  28.68  |\n",
      "+--------------------+---------+---------+---------+----------+---------+\n"
     ]
    }
   ],
   "source": [
    "print(tabulate(df,tablefmt=\"grid\"))"
   ]
  },
  {
   "cell_type": "markdown",
   "id": "9bcfaa8f",
   "metadata": {},
   "source": [
    "## C)"
   ]
  },
  {
   "cell_type": "code",
   "execution_count": 16,
   "id": "f0782cc7",
   "metadata": {},
   "outputs": [
    {
     "data": {
      "text/html": [
       "<div>\n",
       "<style scoped>\n",
       "    .dataframe tbody tr th:only-of-type {\n",
       "        vertical-align: middle;\n",
       "    }\n",
       "\n",
       "    .dataframe tbody tr th {\n",
       "        vertical-align: top;\n",
       "    }\n",
       "\n",
       "    .dataframe thead th {\n",
       "        text-align: right;\n",
       "    }\n",
       "</style>\n",
       "<table border=\"1\" class=\"dataframe\">\n",
       "  <thead>\n",
       "    <tr style=\"text-align: right;\">\n",
       "      <th></th>\n",
       "      <th>AT</th>\n",
       "      <th>V</th>\n",
       "      <th>AP</th>\n",
       "      <th>RH</th>\n",
       "      <th>PE</th>\n",
       "    </tr>\n",
       "  </thead>\n",
       "  <tbody>\n",
       "    <tr>\n",
       "      <th>0</th>\n",
       "      <td>14.96</td>\n",
       "      <td>41.76</td>\n",
       "      <td>1024.07</td>\n",
       "      <td>73.17</td>\n",
       "      <td>463.26</td>\n",
       "    </tr>\n",
       "    <tr>\n",
       "      <th>1</th>\n",
       "      <td>25.18</td>\n",
       "      <td>62.96</td>\n",
       "      <td>1020.04</td>\n",
       "      <td>59.08</td>\n",
       "      <td>444.37</td>\n",
       "    </tr>\n",
       "    <tr>\n",
       "      <th>2</th>\n",
       "      <td>5.11</td>\n",
       "      <td>39.40</td>\n",
       "      <td>1012.16</td>\n",
       "      <td>92.14</td>\n",
       "      <td>488.56</td>\n",
       "    </tr>\n",
       "    <tr>\n",
       "      <th>3</th>\n",
       "      <td>20.86</td>\n",
       "      <td>57.32</td>\n",
       "      <td>1010.24</td>\n",
       "      <td>76.64</td>\n",
       "      <td>446.48</td>\n",
       "    </tr>\n",
       "    <tr>\n",
       "      <th>4</th>\n",
       "      <td>10.82</td>\n",
       "      <td>37.50</td>\n",
       "      <td>1009.23</td>\n",
       "      <td>96.62</td>\n",
       "      <td>473.90</td>\n",
       "    </tr>\n",
       "    <tr>\n",
       "      <th>...</th>\n",
       "      <td>...</td>\n",
       "      <td>...</td>\n",
       "      <td>...</td>\n",
       "      <td>...</td>\n",
       "      <td>...</td>\n",
       "    </tr>\n",
       "    <tr>\n",
       "      <th>9563</th>\n",
       "      <td>16.65</td>\n",
       "      <td>49.69</td>\n",
       "      <td>1014.01</td>\n",
       "      <td>91.00</td>\n",
       "      <td>460.03</td>\n",
       "    </tr>\n",
       "    <tr>\n",
       "      <th>9564</th>\n",
       "      <td>13.19</td>\n",
       "      <td>39.18</td>\n",
       "      <td>1023.67</td>\n",
       "      <td>66.78</td>\n",
       "      <td>469.62</td>\n",
       "    </tr>\n",
       "    <tr>\n",
       "      <th>9565</th>\n",
       "      <td>31.32</td>\n",
       "      <td>74.33</td>\n",
       "      <td>1012.92</td>\n",
       "      <td>36.48</td>\n",
       "      <td>429.57</td>\n",
       "    </tr>\n",
       "    <tr>\n",
       "      <th>9566</th>\n",
       "      <td>24.48</td>\n",
       "      <td>69.45</td>\n",
       "      <td>1013.86</td>\n",
       "      <td>62.39</td>\n",
       "      <td>435.74</td>\n",
       "    </tr>\n",
       "    <tr>\n",
       "      <th>9567</th>\n",
       "      <td>21.60</td>\n",
       "      <td>62.52</td>\n",
       "      <td>1017.23</td>\n",
       "      <td>67.87</td>\n",
       "      <td>453.28</td>\n",
       "    </tr>\n",
       "  </tbody>\n",
       "</table>\n",
       "<p>9568 rows × 5 columns</p>\n",
       "</div>"
      ],
      "text/plain": [
       "         AT      V       AP     RH      PE\n",
       "0     14.96  41.76  1024.07  73.17  463.26\n",
       "1     25.18  62.96  1020.04  59.08  444.37\n",
       "2      5.11  39.40  1012.16  92.14  488.56\n",
       "3     20.86  57.32  1010.24  76.64  446.48\n",
       "4     10.82  37.50  1009.23  96.62  473.90\n",
       "...     ...    ...      ...    ...     ...\n",
       "9563  16.65  49.69  1014.01  91.00  460.03\n",
       "9564  13.19  39.18  1023.67  66.78  469.62\n",
       "9565  31.32  74.33  1012.92  36.48  429.57\n",
       "9566  24.48  69.45  1013.86  62.39  435.74\n",
       "9567  21.60  62.52  1017.23  67.87  453.28\n",
       "\n",
       "[9568 rows x 5 columns]"
      ]
     },
     "execution_count": 16,
     "metadata": {},
     "output_type": "execute_result"
    }
   ],
   "source": [
    "data"
   ]
  },
  {
   "cell_type": "code",
   "execution_count": 17,
   "id": "dcd8519a",
   "metadata": {},
   "outputs": [],
   "source": [
    "LinearModel1=smf.ols('PE~AT',data).fit()\n"
   ]
  },
  {
   "cell_type": "code",
   "execution_count": 18,
   "id": "c0336a9b",
   "metadata": {},
   "outputs": [
    {
     "data": {
      "text/plain": [
       "497.034119892767"
      ]
     },
     "execution_count": 18,
     "metadata": {},
     "output_type": "execute_result"
    }
   ],
   "source": [
    "LinearModel1.params[0]"
   ]
  },
  {
   "cell_type": "code",
   "execution_count": 19,
   "id": "35da602a",
   "metadata": {},
   "outputs": [
    {
     "data": {
      "text/html": [
       "<table class=\"simpletable\">\n",
       "<caption>OLS Regression Results</caption>\n",
       "<tr>\n",
       "  <th>Dep. Variable:</th>           <td>PE</td>        <th>  R-squared:         </th> <td>   0.899</td> \n",
       "</tr>\n",
       "<tr>\n",
       "  <th>Model:</th>                   <td>OLS</td>       <th>  Adj. R-squared:    </th> <td>   0.899</td> \n",
       "</tr>\n",
       "<tr>\n",
       "  <th>Method:</th>             <td>Least Squares</td>  <th>  F-statistic:       </th> <td>8.510e+04</td>\n",
       "</tr>\n",
       "<tr>\n",
       "  <th>Date:</th>             <td>Fri, 11 Feb 2022</td> <th>  Prob (F-statistic):</th>  <td>  0.00</td>  \n",
       "</tr>\n",
       "<tr>\n",
       "  <th>Time:</th>                 <td>22:56:40</td>     <th>  Log-Likelihood:    </th> <td> -29756.</td> \n",
       "</tr>\n",
       "<tr>\n",
       "  <th>No. Observations:</th>      <td>  9568</td>      <th>  AIC:               </th> <td>5.952e+04</td>\n",
       "</tr>\n",
       "<tr>\n",
       "  <th>Df Residuals:</th>          <td>  9566</td>      <th>  BIC:               </th> <td>5.953e+04</td>\n",
       "</tr>\n",
       "<tr>\n",
       "  <th>Df Model:</th>              <td>     1</td>      <th>                     </th>     <td> </td>    \n",
       "</tr>\n",
       "<tr>\n",
       "  <th>Covariance Type:</th>      <td>nonrobust</td>    <th>                     </th>     <td> </td>    \n",
       "</tr>\n",
       "</table>\n",
       "<table class=\"simpletable\">\n",
       "<tr>\n",
       "      <td></td>         <th>coef</th>     <th>std err</th>      <th>t</th>      <th>P>|t|</th>  <th>[0.025</th>    <th>0.975]</th>  \n",
       "</tr>\n",
       "<tr>\n",
       "  <th>Intercept</th> <td>  497.0341</td> <td>    0.156</td> <td> 3177.280</td> <td> 0.000</td> <td>  496.727</td> <td>  497.341</td>\n",
       "</tr>\n",
       "<tr>\n",
       "  <th>AT</th>        <td>   -2.1713</td> <td>    0.007</td> <td> -291.715</td> <td> 0.000</td> <td>   -2.186</td> <td>   -2.157</td>\n",
       "</tr>\n",
       "</table>\n",
       "<table class=\"simpletable\">\n",
       "<tr>\n",
       "  <th>Omnibus:</th>       <td>417.457</td> <th>  Durbin-Watson:     </th> <td>   2.033</td> \n",
       "</tr>\n",
       "<tr>\n",
       "  <th>Prob(Omnibus):</th> <td> 0.000</td>  <th>  Jarque-Bera (JB):  </th> <td>1117.844</td> \n",
       "</tr>\n",
       "<tr>\n",
       "  <th>Skew:</th>          <td>-0.209</td>  <th>  Prob(JB):          </th> <td>1.83e-243</td>\n",
       "</tr>\n",
       "<tr>\n",
       "  <th>Kurtosis:</th>      <td> 4.621</td>  <th>  Cond. No.          </th> <td>    59.4</td> \n",
       "</tr>\n",
       "</table><br/><br/>Notes:<br/>[1] Standard Errors assume that the covariance matrix of the errors is correctly specified."
      ],
      "text/plain": [
       "<class 'statsmodels.iolib.summary.Summary'>\n",
       "\"\"\"\n",
       "                            OLS Regression Results                            \n",
       "==============================================================================\n",
       "Dep. Variable:                     PE   R-squared:                       0.899\n",
       "Model:                            OLS   Adj. R-squared:                  0.899\n",
       "Method:                 Least Squares   F-statistic:                 8.510e+04\n",
       "Date:                Fri, 11 Feb 2022   Prob (F-statistic):               0.00\n",
       "Time:                        22:56:40   Log-Likelihood:                -29756.\n",
       "No. Observations:                9568   AIC:                         5.952e+04\n",
       "Df Residuals:                    9566   BIC:                         5.953e+04\n",
       "Df Model:                           1                                         \n",
       "Covariance Type:            nonrobust                                         \n",
       "==============================================================================\n",
       "                 coef    std err          t      P>|t|      [0.025      0.975]\n",
       "------------------------------------------------------------------------------\n",
       "Intercept    497.0341      0.156   3177.280      0.000     496.727     497.341\n",
       "AT            -2.1713      0.007   -291.715      0.000      -2.186      -2.157\n",
       "==============================================================================\n",
       "Omnibus:                      417.457   Durbin-Watson:                   2.033\n",
       "Prob(Omnibus):                  0.000   Jarque-Bera (JB):             1117.844\n",
       "Skew:                          -0.209   Prob(JB):                    1.83e-243\n",
       "Kurtosis:                       4.621   Cond. No.                         59.4\n",
       "==============================================================================\n",
       "\n",
       "Notes:\n",
       "[1] Standard Errors assume that the covariance matrix of the errors is correctly specified.\n",
       "\"\"\""
      ]
     },
     "execution_count": 19,
     "metadata": {},
     "output_type": "execute_result"
    }
   ],
   "source": [
    "LinearModel1.summary()"
   ]
  },
  {
   "cell_type": "code",
   "execution_count": 20,
   "id": "b7e4cebe",
   "metadata": {},
   "outputs": [
    {
     "data": {
      "text/plain": [
       "Text(0, 0.5, 'Values for PE (Energy Output)')"
      ]
     },
     "execution_count": 20,
     "metadata": {},
     "output_type": "execute_result"
    },
    {
     "data": {
      "image/png": "[encoded data removed]",
      "text/plain": [
       "<Figure size 432x288 with 1 Axes>"
      ]
     },
     "metadata": {
      "needs_background": "light"
     },
     "output_type": "display_data"
    }
   ],
   "source": [
    "plt.scatter(data['AT'],data['PE'])\n",
    "\n",
    "plt.xlabel('Values for AT (Temperature)')\n",
    "plt.ylabel('Values for PE (Energy Output)')"
   ]
  },
  {
   "cell_type": "code",
   "execution_count": 21,
   "id": "34a7810a",
   "metadata": {},
   "outputs": [],
   "source": [
    "prediction_done=LinearModel1.predict(data)"
   ]
  },
  {
   "cell_type": "code",
   "execution_count": 22,
   "id": "c3070eab",
   "metadata": {},
   "outputs": [
    {
     "data": {
      "text/plain": [
       "pandas.core.series.Series"
      ]
     },
     "execution_count": 22,
     "metadata": {},
     "output_type": "execute_result"
    }
   ],
   "source": [
    "type(prediction_done)"
   ]
  },
  {
   "cell_type": "code",
   "execution_count": 23,
   "id": "258d4755",
   "metadata": {},
   "outputs": [
    {
     "data": {
      "text/plain": [
       "Text(0, 0.5, 'Values for PE (Energy Output)')"
      ]
     },
     "execution_count": 23,
     "metadata": {},
     "output_type": "execute_result"
    },
    {
     "data": {
      "image/png": "[encoded data removed]",
      "text/plain": [
       "<Figure size 432x288 with 1 Axes>"
      ]
     },
     "metadata": {
      "needs_background": "light"
     },
     "output_type": "display_data"
    }
   ],
   "source": [
    "plt.scatter(data['AT'],data['PE'])\n",
    "plt.plot(data['AT'],prediction_done,color='red')\n",
    "plt.xlabel('Values for AT (Temperature)')\n",
    "plt.ylabel('Values for PE (Energy Output)')\n",
    "\n",
    "# The red line is our fitted linear regression."
   ]
  },
  {
   "cell_type": "code",
   "execution_count": 24,
   "id": "e73a9a80",
   "metadata": {},
   "outputs": [
    {
     "data": {
      "text/html": [
       "<table class=\"simpletable\">\n",
       "<caption>OLS Regression Results</caption>\n",
       "<tr>\n",
       "  <th>Dep. Variable:</th>           <td>PE</td>        <th>  R-squared:         </th> <td>   0.899</td> \n",
       "</tr>\n",
       "<tr>\n",
       "  <th>Model:</th>                   <td>OLS</td>       <th>  Adj. R-squared:    </th> <td>   0.899</td> \n",
       "</tr>\n",
       "<tr>\n",
       "  <th>Method:</th>             <td>Least Squares</td>  <th>  F-statistic:       </th> <td>8.510e+04</td>\n",
       "</tr>\n",
       "<tr>\n",
       "  <th>Date:</th>             <td>Fri, 11 Feb 2022</td> <th>  Prob (F-statistic):</th>  <td>  0.00</td>  \n",
       "</tr>\n",
       "<tr>\n",
       "  <th>Time:</th>                 <td>22:56:40</td>     <th>  Log-Likelihood:    </th> <td> -29756.</td> \n",
       "</tr>\n",
       "<tr>\n",
       "  <th>No. Observations:</th>      <td>  9568</td>      <th>  AIC:               </th> <td>5.952e+04</td>\n",
       "</tr>\n",
       "<tr>\n",
       "  <th>Df Residuals:</th>          <td>  9566</td>      <th>  BIC:               </th> <td>5.953e+04</td>\n",
       "</tr>\n",
       "<tr>\n",
       "  <th>Df Model:</th>              <td>     1</td>      <th>                     </th>     <td> </td>    \n",
       "</tr>\n",
       "<tr>\n",
       "  <th>Covariance Type:</th>      <td>nonrobust</td>    <th>                     </th>     <td> </td>    \n",
       "</tr>\n",
       "</table>\n",
       "<table class=\"simpletable\">\n",
       "<tr>\n",
       "      <td></td>         <th>coef</th>     <th>std err</th>      <th>t</th>      <th>P>|t|</th>  <th>[0.025</th>    <th>0.975]</th>  \n",
       "</tr>\n",
       "<tr>\n",
       "  <th>Intercept</th> <td>  497.0341</td> <td>    0.156</td> <td> 3177.280</td> <td> 0.000</td> <td>  496.727</td> <td>  497.341</td>\n",
       "</tr>\n",
       "<tr>\n",
       "  <th>AT</th>        <td>   -2.1713</td> <td>    0.007</td> <td> -291.715</td> <td> 0.000</td> <td>   -2.186</td> <td>   -2.157</td>\n",
       "</tr>\n",
       "</table>\n",
       "<table class=\"simpletable\">\n",
       "<tr>\n",
       "  <th>Omnibus:</th>       <td>417.457</td> <th>  Durbin-Watson:     </th> <td>   2.033</td> \n",
       "</tr>\n",
       "<tr>\n",
       "  <th>Prob(Omnibus):</th> <td> 0.000</td>  <th>  Jarque-Bera (JB):  </th> <td>1117.844</td> \n",
       "</tr>\n",
       "<tr>\n",
       "  <th>Skew:</th>          <td>-0.209</td>  <th>  Prob(JB):          </th> <td>1.83e-243</td>\n",
       "</tr>\n",
       "<tr>\n",
       "  <th>Kurtosis:</th>      <td> 4.621</td>  <th>  Cond. No.          </th> <td>    59.4</td> \n",
       "</tr>\n",
       "</table><br/><br/>Notes:<br/>[1] Standard Errors assume that the covariance matrix of the errors is correctly specified."
      ],
      "text/plain": [
       "<class 'statsmodels.iolib.summary.Summary'>\n",
       "\"\"\"\n",
       "                            OLS Regression Results                            \n",
       "==============================================================================\n",
       "Dep. Variable:                     PE   R-squared:                       0.899\n",
       "Model:                            OLS   Adj. R-squared:                  0.899\n",
       "Method:                 Least Squares   F-statistic:                 8.510e+04\n",
       "Date:                Fri, 11 Feb 2022   Prob (F-statistic):               0.00\n",
       "Time:                        22:56:40   Log-Likelihood:                -29756.\n",
       "No. Observations:                9568   AIC:                         5.952e+04\n",
       "Df Residuals:                    9566   BIC:                         5.953e+04\n",
       "Df Model:                           1                                         \n",
       "Covariance Type:            nonrobust                                         \n",
       "==============================================================================\n",
       "                 coef    std err          t      P>|t|      [0.025      0.975]\n",
       "------------------------------------------------------------------------------\n",
       "Intercept    497.0341      0.156   3177.280      0.000     496.727     497.341\n",
       "AT            -2.1713      0.007   -291.715      0.000      -2.186      -2.157\n",
       "==============================================================================\n",
       "Omnibus:                      417.457   Durbin-Watson:                   2.033\n",
       "Prob(Omnibus):                  0.000   Jarque-Bera (JB):             1117.844\n",
       "Skew:                          -0.209   Prob(JB):                    1.83e-243\n",
       "Kurtosis:                       4.621   Cond. No.                         59.4\n",
       "==============================================================================\n",
       "\n",
       "Notes:\n",
       "[1] Standard Errors assume that the covariance matrix of the errors is correctly specified.\n",
       "\"\"\""
      ]
     },
     "execution_count": 24,
     "metadata": {},
     "output_type": "execute_result"
    }
   ],
   "source": [
    "LinearModel1.summary()"
   ]
  },
  {
   "cell_type": "code",
   "execution_count": 25,
   "id": "a4e1014d",
   "metadata": {},
   "outputs": [],
   "source": [
    "## Now we will do the same steps for other variables too.\n"
   ]
  },
  {
   "cell_type": "code",
   "execution_count": 26,
   "id": "38314d1c",
   "metadata": {},
   "outputs": [],
   "source": [
    "LinearModel2=smf.ols('PE~V',data).fit()"
   ]
  },
  {
   "cell_type": "code",
   "execution_count": 27,
   "id": "565d1f60",
   "metadata": {},
   "outputs": [],
   "source": [
    "prediction_done=LinearModel2.predict(data)"
   ]
  },
  {
   "cell_type": "code",
   "execution_count": 28,
   "id": "7d2e7529",
   "metadata": {},
   "outputs": [
    {
     "data": {
      "text/html": [
       "<table class=\"simpletable\">\n",
       "<caption>OLS Regression Results</caption>\n",
       "<tr>\n",
       "  <th>Dep. Variable:</th>           <td>PE</td>        <th>  R-squared:         </th> <td>   0.757</td> \n",
       "</tr>\n",
       "<tr>\n",
       "  <th>Model:</th>                   <td>OLS</td>       <th>  Adj. R-squared:    </th> <td>   0.756</td> \n",
       "</tr>\n",
       "<tr>\n",
       "  <th>Method:</th>             <td>Least Squares</td>  <th>  F-statistic:       </th> <td>2.972e+04</td>\n",
       "</tr>\n",
       "<tr>\n",
       "  <th>Date:</th>             <td>Fri, 11 Feb 2022</td> <th>  Prob (F-statistic):</th>  <td>  0.00</td>  \n",
       "</tr>\n",
       "<tr>\n",
       "  <th>Time:</th>                 <td>22:56:40</td>     <th>  Log-Likelihood:    </th> <td> -33963.</td> \n",
       "</tr>\n",
       "<tr>\n",
       "  <th>No. Observations:</th>      <td>  9568</td>      <th>  AIC:               </th> <td>6.793e+04</td>\n",
       "</tr>\n",
       "<tr>\n",
       "  <th>Df Residuals:</th>          <td>  9566</td>      <th>  BIC:               </th> <td>6.794e+04</td>\n",
       "</tr>\n",
       "<tr>\n",
       "  <th>Df Model:</th>              <td>     1</td>      <th>                     </th>     <td> </td>    \n",
       "</tr>\n",
       "<tr>\n",
       "  <th>Covariance Type:</th>      <td>nonrobust</td>    <th>                     </th>     <td> </td>    \n",
       "</tr>\n",
       "</table>\n",
       "<table class=\"simpletable\">\n",
       "<tr>\n",
       "      <td></td>         <th>coef</th>     <th>std err</th>      <th>t</th>      <th>P>|t|</th>  <th>[0.025</th>    <th>0.975]</th>  \n",
       "</tr>\n",
       "<tr>\n",
       "  <th>Intercept</th> <td>  517.8015</td> <td>    0.378</td> <td> 1370.218</td> <td> 0.000</td> <td>  517.061</td> <td>  518.542</td>\n",
       "</tr>\n",
       "<tr>\n",
       "  <th>V</th>         <td>   -1.1681</td> <td>    0.007</td> <td> -172.402</td> <td> 0.000</td> <td>   -1.181</td> <td>   -1.155</td>\n",
       "</tr>\n",
       "</table>\n",
       "<table class=\"simpletable\">\n",
       "<tr>\n",
       "  <th>Omnibus:</th>       <td>77.693</td> <th>  Durbin-Watson:     </th> <td>   2.007</td>\n",
       "</tr>\n",
       "<tr>\n",
       "  <th>Prob(Omnibus):</th> <td> 0.000</td> <th>  Jarque-Bera (JB):  </th> <td> 109.571</td>\n",
       "</tr>\n",
       "<tr>\n",
       "  <th>Skew:</th>          <td>-0.097</td> <th>  Prob(JB):          </th> <td>1.61e-24</td>\n",
       "</tr>\n",
       "<tr>\n",
       "  <th>Kurtosis:</th>      <td> 3.487</td> <th>  Cond. No.          </th> <td>    245.</td>\n",
       "</tr>\n",
       "</table><br/><br/>Notes:<br/>[1] Standard Errors assume that the covariance matrix of the errors is correctly specified."
      ],
      "text/plain": [
       "<class 'statsmodels.iolib.summary.Summary'>\n",
       "\"\"\"\n",
       "                            OLS Regression Results                            \n",
       "==============================================================================\n",
       "Dep. Variable:                     PE   R-squared:                       0.757\n",
       "Model:                            OLS   Adj. R-squared:                  0.756\n",
       "Method:                 Least Squares   F-statistic:                 2.972e+04\n",
       "Date:                Fri, 11 Feb 2022   Prob (F-statistic):               0.00\n",
       "Time:                        22:56:40   Log-Likelihood:                -33963.\n",
       "No. Observations:                9568   AIC:                         6.793e+04\n",
       "Df Residuals:                    9566   BIC:                         6.794e+04\n",
       "Df Model:                           1                                         \n",
       "Covariance Type:            nonrobust                                         \n",
       "==============================================================================\n",
       "                 coef    std err          t      P>|t|      [0.025      0.975]\n",
       "------------------------------------------------------------------------------\n",
       "Intercept    517.8015      0.378   1370.218      0.000     517.061     518.542\n",
       "V             -1.1681      0.007   -172.402      0.000      -1.181      -1.155\n",
       "==============================================================================\n",
       "Omnibus:                       77.693   Durbin-Watson:                   2.007\n",
       "Prob(Omnibus):                  0.000   Jarque-Bera (JB):              109.571\n",
       "Skew:                          -0.097   Prob(JB):                     1.61e-24\n",
       "Kurtosis:                       3.487   Cond. No.                         245.\n",
       "==============================================================================\n",
       "\n",
       "Notes:\n",
       "[1] Standard Errors assume that the covariance matrix of the errors is correctly specified.\n",
       "\"\"\""
      ]
     },
     "execution_count": 28,
     "metadata": {},
     "output_type": "execute_result"
    },
    {
     "data": {
      "image/png": "[encoded data removed]",
      "text/plain": [
       "<Figure size 432x288 with 1 Axes>"
      ]
     },
     "metadata": {
      "needs_background": "light"
     },
     "output_type": "display_data"
    }
   ],
   "source": [
    "plt.scatter(data['V'],data['PE'])\n",
    "plt.plot(data['V'],prediction_done,color='red')\n",
    "plt.xlabel('Values for V (Vaccum)')\n",
    "plt.ylabel('Values for PE (Energy Output)')\n",
    "\n",
    "LinearModel2.summary()"
   ]
  },
  {
   "cell_type": "code",
   "execution_count": 29,
   "id": "beb181fe",
   "metadata": {},
   "outputs": [],
   "source": [
    "LinearModel3=smf.ols('PE~AP',data).fit()"
   ]
  },
  {
   "cell_type": "code",
   "execution_count": 30,
   "id": "b67886e1",
   "metadata": {},
   "outputs": [],
   "source": [
    "prediction_done=LinearModel3.predict(data)"
   ]
  },
  {
   "cell_type": "code",
   "execution_count": 31,
   "id": "f6a1d18a",
   "metadata": {},
   "outputs": [
    {
     "data": {
      "text/html": [
       "<table class=\"simpletable\">\n",
       "<caption>OLS Regression Results</caption>\n",
       "<tr>\n",
       "  <th>Dep. Variable:</th>           <td>PE</td>        <th>  R-squared:         </th> <td>   0.269</td> \n",
       "</tr>\n",
       "<tr>\n",
       "  <th>Model:</th>                   <td>OLS</td>       <th>  Adj. R-squared:    </th> <td>   0.269</td> \n",
       "</tr>\n",
       "<tr>\n",
       "  <th>Method:</th>             <td>Least Squares</td>  <th>  F-statistic:       </th> <td>   3516.</td> \n",
       "</tr>\n",
       "<tr>\n",
       "  <th>Date:</th>             <td>Fri, 11 Feb 2022</td> <th>  Prob (F-statistic):</th>  <td>  0.00</td>  \n",
       "</tr>\n",
       "<tr>\n",
       "  <th>Time:</th>                 <td>22:56:40</td>     <th>  Log-Likelihood:    </th> <td> -39224.</td> \n",
       "</tr>\n",
       "<tr>\n",
       "  <th>No. Observations:</th>      <td>  9568</td>      <th>  AIC:               </th> <td>7.845e+04</td>\n",
       "</tr>\n",
       "<tr>\n",
       "  <th>Df Residuals:</th>          <td>  9566</td>      <th>  BIC:               </th> <td>7.847e+04</td>\n",
       "</tr>\n",
       "<tr>\n",
       "  <th>Df Model:</th>              <td>     1</td>      <th>                     </th>     <td> </td>    \n",
       "</tr>\n",
       "<tr>\n",
       "  <th>Covariance Type:</th>      <td>nonrobust</td>    <th>                     </th>     <td> </td>    \n",
       "</tr>\n",
       "</table>\n",
       "<table class=\"simpletable\">\n",
       "<tr>\n",
       "      <td></td>         <th>coef</th>     <th>std err</th>      <th>t</th>      <th>P>|t|</th>  <th>[0.025</th>    <th>0.975]</th>  \n",
       "</tr>\n",
       "<tr>\n",
       "  <th>Intercept</th> <td>-1055.2610</td> <td>   25.459</td> <td>  -41.449</td> <td> 0.000</td> <td>-1105.167</td> <td>-1005.355</td>\n",
       "</tr>\n",
       "<tr>\n",
       "  <th>AP</th>        <td>    1.4899</td> <td>    0.025</td> <td>   59.296</td> <td> 0.000</td> <td>    1.441</td> <td>    1.539</td>\n",
       "</tr>\n",
       "</table>\n",
       "<table class=\"simpletable\">\n",
       "<tr>\n",
       "  <th>Omnibus:</th>       <td>525.438</td> <th>  Durbin-Watson:     </th> <td>   1.996</td> \n",
       "</tr>\n",
       "<tr>\n",
       "  <th>Prob(Omnibus):</th> <td> 0.000</td>  <th>  Jarque-Bera (JB):  </th> <td> 612.290</td> \n",
       "</tr>\n",
       "<tr>\n",
       "  <th>Skew:</th>          <td> 0.616</td>  <th>  Prob(JB):          </th> <td>1.10e-133</td>\n",
       "</tr>\n",
       "<tr>\n",
       "  <th>Kurtosis:</th>      <td> 2.859</td>  <th>  Cond. No.          </th> <td>1.73e+05</td> \n",
       "</tr>\n",
       "</table><br/><br/>Notes:<br/>[1] Standard Errors assume that the covariance matrix of the errors is correctly specified.<br/>[2] The condition number is large, 1.73e+05. This might indicate that there are<br/>strong multicollinearity or other numerical problems."
      ],
      "text/plain": [
       "<class 'statsmodels.iolib.summary.Summary'>\n",
       "\"\"\"\n",
       "                            OLS Regression Results                            \n",
       "==============================================================================\n",
       "Dep. Variable:                     PE   R-squared:                       0.269\n",
       "Model:                            OLS   Adj. R-squared:                  0.269\n",
       "Method:                 Least Squares   F-statistic:                     3516.\n",
       "Date:                Fri, 11 Feb 2022   Prob (F-statistic):               0.00\n",
       "Time:                        22:56:40   Log-Likelihood:                -39224.\n",
       "No. Observations:                9568   AIC:                         7.845e+04\n",
       "Df Residuals:                    9566   BIC:                         7.847e+04\n",
       "Df Model:                           1                                         \n",
       "Covariance Type:            nonrobust                                         \n",
       "==============================================================================\n",
       "                 coef    std err          t      P>|t|      [0.025      0.975]\n",
       "------------------------------------------------------------------------------\n",
       "Intercept  -1055.2610     25.459    -41.449      0.000   -1105.167   -1005.355\n",
       "AP             1.4899      0.025     59.296      0.000       1.441       1.539\n",
       "==============================================================================\n",
       "Omnibus:                      525.438   Durbin-Watson:                   1.996\n",
       "Prob(Omnibus):                  0.000   Jarque-Bera (JB):              612.290\n",
       "Skew:                           0.616   Prob(JB):                    1.10e-133\n",
       "Kurtosis:                       2.859   Cond. No.                     1.73e+05\n",
       "==============================================================================\n",
       "\n",
       "Notes:\n",
       "[1] Standard Errors assume that the covariance matrix of the errors is correctly specified.\n",
       "[2] The condition number is large, 1.73e+05. This might indicate that there are\n",
       "strong multicollinearity or other numerical problems.\n",
       "\"\"\""
      ]
     },
     "execution_count": 31,
     "metadata": {},
     "output_type": "execute_result"
    },
    {
     "data": {
      "image/png": "[encoded data removed]",
      "text/plain": [
       "<Figure size 432x288 with 1 Axes>"
      ]
     },
     "metadata": {
      "needs_background": "light"
     },
     "output_type": "display_data"
    }
   ],
   "source": [
    "plt.scatter(data['AP'],data['PE'])\n",
    "plt.plot(data['AP'],prediction_done,color='red')\n",
    "plt.xlabel('Values for AP (Ambiennt Pressure)')\n",
    "plt.ylabel('Values for PE (Energy Output)')\n",
    "LinearModel3.summary()"
   ]
  },
  {
   "cell_type": "code",
   "execution_count": 32,
   "id": "3c073da7",
   "metadata": {},
   "outputs": [
    {
     "data": {
      "text/html": [
       "<table class=\"simpletable\">\n",
       "<caption>OLS Regression Results</caption>\n",
       "<tr>\n",
       "  <th>Dep. Variable:</th>           <td>PE</td>        <th>  R-squared:         </th> <td>   0.152</td> \n",
       "</tr>\n",
       "<tr>\n",
       "  <th>Model:</th>                   <td>OLS</td>       <th>  Adj. R-squared:    </th> <td>   0.152</td> \n",
       "</tr>\n",
       "<tr>\n",
       "  <th>Method:</th>             <td>Least Squares</td>  <th>  F-statistic:       </th> <td>   1714.</td> \n",
       "</tr>\n",
       "<tr>\n",
       "  <th>Date:</th>             <td>Fri, 11 Feb 2022</td> <th>  Prob (F-statistic):</th>  <td>  0.00</td>  \n",
       "</tr>\n",
       "<tr>\n",
       "  <th>Time:</th>                 <td>22:56:40</td>     <th>  Log-Likelihood:    </th> <td> -39933.</td> \n",
       "</tr>\n",
       "<tr>\n",
       "  <th>No. Observations:</th>      <td>  9568</td>      <th>  AIC:               </th> <td>7.987e+04</td>\n",
       "</tr>\n",
       "<tr>\n",
       "  <th>Df Residuals:</th>          <td>  9566</td>      <th>  BIC:               </th> <td>7.988e+04</td>\n",
       "</tr>\n",
       "<tr>\n",
       "  <th>Df Model:</th>              <td>     1</td>      <th>                     </th>     <td> </td>    \n",
       "</tr>\n",
       "<tr>\n",
       "  <th>Covariance Type:</th>      <td>nonrobust</td>    <th>                     </th>     <td> </td>    \n",
       "</tr>\n",
       "</table>\n",
       "<table class=\"simpletable\">\n",
       "<tr>\n",
       "      <td></td>         <th>coef</th>     <th>std err</th>      <th>t</th>      <th>P>|t|</th>  <th>[0.025</th>    <th>0.975]</th>  \n",
       "</tr>\n",
       "<tr>\n",
       "  <th>Intercept</th> <td>  420.9618</td> <td>    0.823</td> <td>  511.676</td> <td> 0.000</td> <td>  419.349</td> <td>  422.574</td>\n",
       "</tr>\n",
       "<tr>\n",
       "  <th>RH</th>        <td>    0.4557</td> <td>    0.011</td> <td>   41.399</td> <td> 0.000</td> <td>    0.434</td> <td>    0.477</td>\n",
       "</tr>\n",
       "</table>\n",
       "<table class=\"simpletable\">\n",
       "<tr>\n",
       "  <th>Omnibus:</th>       <td>772.278</td> <th>  Durbin-Watson:     </th> <td>   1.998</td>\n",
       "</tr>\n",
       "<tr>\n",
       "  <th>Prob(Omnibus):</th> <td> 0.000</td>  <th>  Jarque-Bera (JB):  </th> <td> 319.245</td>\n",
       "</tr>\n",
       "<tr>\n",
       "  <th>Skew:</th>          <td> 0.231</td>  <th>  Prob(JB):          </th> <td>4.75e-70</td>\n",
       "</tr>\n",
       "<tr>\n",
       "  <th>Kurtosis:</th>      <td> 2.234</td>  <th>  Cond. No.          </th> <td>    383.</td>\n",
       "</tr>\n",
       "</table><br/><br/>Notes:<br/>[1] Standard Errors assume that the covariance matrix of the errors is correctly specified."
      ],
      "text/plain": [
       "<class 'statsmodels.iolib.summary.Summary'>\n",
       "\"\"\"\n",
       "                            OLS Regression Results                            \n",
       "==============================================================================\n",
       "Dep. Variable:                     PE   R-squared:                       0.152\n",
       "Model:                            OLS   Adj. R-squared:                  0.152\n",
       "Method:                 Least Squares   F-statistic:                     1714.\n",
       "Date:                Fri, 11 Feb 2022   Prob (F-statistic):               0.00\n",
       "Time:                        22:56:40   Log-Likelihood:                -39933.\n",
       "No. Observations:                9568   AIC:                         7.987e+04\n",
       "Df Residuals:                    9566   BIC:                         7.988e+04\n",
       "Df Model:                           1                                         \n",
       "Covariance Type:            nonrobust                                         \n",
       "==============================================================================\n",
       "                 coef    std err          t      P>|t|      [0.025      0.975]\n",
       "------------------------------------------------------------------------------\n",
       "Intercept    420.9618      0.823    511.676      0.000     419.349     422.574\n",
       "RH             0.4557      0.011     41.399      0.000       0.434       0.477\n",
       "==============================================================================\n",
       "Omnibus:                      772.278   Durbin-Watson:                   1.998\n",
       "Prob(Omnibus):                  0.000   Jarque-Bera (JB):              319.245\n",
       "Skew:                           0.231   Prob(JB):                     4.75e-70\n",
       "Kurtosis:                       2.234   Cond. No.                         383.\n",
       "==============================================================================\n",
       "\n",
       "Notes:\n",
       "[1] Standard Errors assume that the covariance matrix of the errors is correctly specified.\n",
       "\"\"\""
      ]
     },
     "execution_count": 32,
     "metadata": {},
     "output_type": "execute_result"
    },
    {
     "data": {
      "image/png": "[encoded data removed]",
      "text/plain": [
       "<Figure size 432x288 with 1 Axes>"
      ]
     },
     "metadata": {
      "needs_background": "light"
     },
     "output_type": "display_data"
    }
   ],
   "source": [
    "LinearModel4=smf.ols('PE~RH',data).fit()\n",
    "prediction_done=LinearModel4.predict(data)\n",
    "\n",
    "\n",
    "plt.scatter(data['RH'],data['PE'])\n",
    "plt.plot(data['RH'],prediction_done,color='red')\n",
    "plt.xlabel('Values for RH (Relative Humidity)')\n",
    "plt.ylabel('Values for PE (Energy Output)')\n",
    "LinearModel4.summary()"
   ]
  },
  {
   "cell_type": "markdown",
   "id": "09cb58e2",
   "metadata": {},
   "source": [
    "### From the plots shown above we can clearly see that, all the variables have significant association with the dependent variable because all have p value significantly less than the threshold value which is .05"
   ]
  },
  {
   "cell_type": "markdown",
   "id": "5239f881",
   "metadata": {},
   "source": [
    "## Now for outlier analysis we will use interquartile range."
   ]
  },
  {
   "cell_type": "code",
   "execution_count": 33,
   "id": "a939078d",
   "metadata": {},
   "outputs": [
    {
     "data": {
      "text/html": [
       "<div>\n",
       "<style scoped>\n",
       "    .dataframe tbody tr th:only-of-type {\n",
       "        vertical-align: middle;\n",
       "    }\n",
       "\n",
       "    .dataframe tbody tr th {\n",
       "        vertical-align: top;\n",
       "    }\n",
       "\n",
       "    .dataframe thead th {\n",
       "        text-align: right;\n",
       "    }\n",
       "</style>\n",
       "<table border=\"1\" class=\"dataframe\">\n",
       "  <thead>\n",
       "    <tr style=\"text-align: right;\">\n",
       "      <th></th>\n",
       "      <th>AT</th>\n",
       "      <th>V</th>\n",
       "      <th>AP</th>\n",
       "      <th>RH</th>\n",
       "      <th>PE</th>\n",
       "    </tr>\n",
       "  </thead>\n",
       "  <tbody>\n",
       "    <tr>\n",
       "      <th>mean</th>\n",
       "      <td>19.651231</td>\n",
       "      <td>54.305804</td>\n",
       "      <td>1013.259078</td>\n",
       "      <td>73.308978</td>\n",
       "      <td>454.365009</td>\n",
       "    </tr>\n",
       "    <tr>\n",
       "      <th>min</th>\n",
       "      <td>1.810000</td>\n",
       "      <td>25.360000</td>\n",
       "      <td>992.890000</td>\n",
       "      <td>25.560000</td>\n",
       "      <td>420.260000</td>\n",
       "    </tr>\n",
       "    <tr>\n",
       "      <th>25%</th>\n",
       "      <td>13.510000</td>\n",
       "      <td>41.740000</td>\n",
       "      <td>1009.100000</td>\n",
       "      <td>63.327500</td>\n",
       "      <td>439.750000</td>\n",
       "    </tr>\n",
       "    <tr>\n",
       "      <th>50%</th>\n",
       "      <td>20.345000</td>\n",
       "      <td>52.080000</td>\n",
       "      <td>1012.940000</td>\n",
       "      <td>74.975000</td>\n",
       "      <td>451.550000</td>\n",
       "    </tr>\n",
       "    <tr>\n",
       "      <th>75%</th>\n",
       "      <td>25.720000</td>\n",
       "      <td>66.540000</td>\n",
       "      <td>1017.260000</td>\n",
       "      <td>84.830000</td>\n",
       "      <td>468.430000</td>\n",
       "    </tr>\n",
       "    <tr>\n",
       "      <th>max</th>\n",
       "      <td>37.110000</td>\n",
       "      <td>81.560000</td>\n",
       "      <td>1033.300000</td>\n",
       "      <td>100.160000</td>\n",
       "      <td>495.760000</td>\n",
       "    </tr>\n",
       "    <tr>\n",
       "      <th>range</th>\n",
       "      <td>35.300000</td>\n",
       "      <td>56.200000</td>\n",
       "      <td>40.410000</td>\n",
       "      <td>74.600000</td>\n",
       "      <td>75.500000</td>\n",
       "    </tr>\n",
       "    <tr>\n",
       "      <th>InterQuartileRange</th>\n",
       "      <td>12.210000</td>\n",
       "      <td>24.800000</td>\n",
       "      <td>8.160000</td>\n",
       "      <td>21.502500</td>\n",
       "      <td>28.680000</td>\n",
       "    </tr>\n",
       "  </tbody>\n",
       "</table>\n",
       "</div>"
      ],
      "text/plain": [
       "                           AT          V           AP          RH          PE\n",
       "mean                19.651231  54.305804  1013.259078   73.308978  454.365009\n",
       "min                  1.810000  25.360000   992.890000   25.560000  420.260000\n",
       "25%                 13.510000  41.740000  1009.100000   63.327500  439.750000\n",
       "50%                 20.345000  52.080000  1012.940000   74.975000  451.550000\n",
       "75%                 25.720000  66.540000  1017.260000   84.830000  468.430000\n",
       "max                 37.110000  81.560000  1033.300000  100.160000  495.760000\n",
       "range               35.300000  56.200000    40.410000   74.600000   75.500000\n",
       "InterQuartileRange  12.210000  24.800000     8.160000   21.502500   28.680000"
      ]
     },
     "execution_count": 33,
     "metadata": {},
     "output_type": "execute_result"
    }
   ],
   "source": [
    "df"
   ]
  },
  {
   "cell_type": "code",
   "execution_count": 34,
   "id": "20c7cd70",
   "metadata": {},
   "outputs": [],
   "source": [
    "Lower_bound=df.loc['25%','AT'] - ((df.loc['InterQuartileRange','AT'])*1.5)"
   ]
  },
  {
   "cell_type": "code",
   "execution_count": 35,
   "id": "382d58aa",
   "metadata": {},
   "outputs": [
    {
     "data": {
      "text/plain": [
       "-4.804999999999998"
      ]
     },
     "execution_count": 35,
     "metadata": {},
     "output_type": "execute_result"
    }
   ],
   "source": [
    "Lower_bound"
   ]
  },
  {
   "cell_type": "code",
   "execution_count": 36,
   "id": "fb6e6370",
   "metadata": {},
   "outputs": [],
   "source": [
    "Upper_bound=df.loc['75%','AT'] + ((df.loc['InterQuartileRange','AT'])*1.5)"
   ]
  },
  {
   "cell_type": "code",
   "execution_count": 37,
   "id": "2275c9c3",
   "metadata": {},
   "outputs": [
    {
     "data": {
      "text/plain": [
       "44.035"
      ]
     },
     "execution_count": 37,
     "metadata": {},
     "output_type": "execute_result"
    }
   ],
   "source": [
    "Upper_bound"
   ]
  },
  {
   "cell_type": "code",
   "execution_count": 38,
   "id": "e075285d",
   "metadata": {},
   "outputs": [
    {
     "data": {
      "text/html": [
       "<div>\n",
       "<style scoped>\n",
       "    .dataframe tbody tr th:only-of-type {\n",
       "        vertical-align: middle;\n",
       "    }\n",
       "\n",
       "    .dataframe tbody tr th {\n",
       "        vertical-align: top;\n",
       "    }\n",
       "\n",
       "    .dataframe thead th {\n",
       "        text-align: right;\n",
       "    }\n",
       "</style>\n",
       "<table border=\"1\" class=\"dataframe\">\n",
       "  <thead>\n",
       "    <tr style=\"text-align: right;\">\n",
       "      <th></th>\n",
       "      <th>AT</th>\n",
       "      <th>V</th>\n",
       "      <th>AP</th>\n",
       "      <th>RH</th>\n",
       "      <th>PE</th>\n",
       "    </tr>\n",
       "  </thead>\n",
       "  <tbody>\n",
       "  </tbody>\n",
       "</table>\n",
       "</div>"
      ],
      "text/plain": [
       "Empty DataFrame\n",
       "Columns: [AT, V, AP, RH, PE]\n",
       "Index: []"
      ]
     },
     "execution_count": 38,
     "metadata": {},
     "output_type": "execute_result"
    }
   ],
   "source": [
    "data[(data['AT']<Lower_bound) | (data['AT']>Upper_bound)]"
   ]
  },
  {
   "cell_type": "code",
   "execution_count": 39,
   "id": "4e29aead",
   "metadata": {},
   "outputs": [],
   "source": [
    "# We can clearly see there is no outlier in AT variable.\n",
    "# Now we will check for RH variable."
   ]
  },
  {
   "cell_type": "code",
   "execution_count": 40,
   "id": "03086e1a",
   "metadata": {},
   "outputs": [
    {
     "name": "stdout",
     "output_type": "stream",
     "text": [
      "31.073750000000004 117.08375\n"
     ]
    },
    {
     "data": {
      "text/html": [
       "<div>\n",
       "<style scoped>\n",
       "    .dataframe tbody tr th:only-of-type {\n",
       "        vertical-align: middle;\n",
       "    }\n",
       "\n",
       "    .dataframe tbody tr th {\n",
       "        vertical-align: top;\n",
       "    }\n",
       "\n",
       "    .dataframe thead th {\n",
       "        text-align: right;\n",
       "    }\n",
       "</style>\n",
       "<table border=\"1\" class=\"dataframe\">\n",
       "  <thead>\n",
       "    <tr style=\"text-align: right;\">\n",
       "      <th></th>\n",
       "      <th>AT</th>\n",
       "      <th>V</th>\n",
       "      <th>AP</th>\n",
       "      <th>RH</th>\n",
       "      <th>PE</th>\n",
       "    </tr>\n",
       "  </thead>\n",
       "  <tbody>\n",
       "    <tr>\n",
       "      <th>789</th>\n",
       "      <td>34.30</td>\n",
       "      <td>74.67</td>\n",
       "      <td>1015.98</td>\n",
       "      <td>25.89</td>\n",
       "      <td>427.84</td>\n",
       "    </tr>\n",
       "    <tr>\n",
       "      <th>2262</th>\n",
       "      <td>33.94</td>\n",
       "      <td>74.67</td>\n",
       "      <td>1015.94</td>\n",
       "      <td>28.16</td>\n",
       "      <td>427.98</td>\n",
       "    </tr>\n",
       "    <tr>\n",
       "      <th>3603</th>\n",
       "      <td>19.78</td>\n",
       "      <td>44.71</td>\n",
       "      <td>1015.70</td>\n",
       "      <td>29.43</td>\n",
       "      <td>465.49</td>\n",
       "    </tr>\n",
       "    <tr>\n",
       "      <th>4367</th>\n",
       "      <td>34.65</td>\n",
       "      <td>74.67</td>\n",
       "      <td>1016.03</td>\n",
       "      <td>26.67</td>\n",
       "      <td>427.69</td>\n",
       "    </tr>\n",
       "    <tr>\n",
       "      <th>6472</th>\n",
       "      <td>33.83</td>\n",
       "      <td>67.90</td>\n",
       "      <td>1005.94</td>\n",
       "      <td>29.86</td>\n",
       "      <td>428.12</td>\n",
       "    </tr>\n",
       "    <tr>\n",
       "      <th>7983</th>\n",
       "      <td>19.31</td>\n",
       "      <td>44.71</td>\n",
       "      <td>1016.13</td>\n",
       "      <td>30.59</td>\n",
       "      <td>463.00</td>\n",
       "    </tr>\n",
       "    <tr>\n",
       "      <th>8061</th>\n",
       "      <td>34.24</td>\n",
       "      <td>74.67</td>\n",
       "      <td>1016.24</td>\n",
       "      <td>25.56</td>\n",
       "      <td>425.58</td>\n",
       "    </tr>\n",
       "    <tr>\n",
       "      <th>8737</th>\n",
       "      <td>18.76</td>\n",
       "      <td>44.71</td>\n",
       "      <td>1015.15</td>\n",
       "      <td>30.83</td>\n",
       "      <td>462.18</td>\n",
       "    </tr>\n",
       "    <tr>\n",
       "      <th>8751</th>\n",
       "      <td>19.32</td>\n",
       "      <td>44.71</td>\n",
       "      <td>1015.30</td>\n",
       "      <td>28.81</td>\n",
       "      <td>464.38</td>\n",
       "    </tr>\n",
       "    <tr>\n",
       "      <th>9015</th>\n",
       "      <td>35.01</td>\n",
       "      <td>74.67</td>\n",
       "      <td>1016.10</td>\n",
       "      <td>26.30</td>\n",
       "      <td>428.48</td>\n",
       "    </tr>\n",
       "    <tr>\n",
       "      <th>9074</th>\n",
       "      <td>34.18</td>\n",
       "      <td>67.90</td>\n",
       "      <td>1005.87</td>\n",
       "      <td>30.34</td>\n",
       "      <td>425.50</td>\n",
       "    </tr>\n",
       "    <tr>\n",
       "      <th>9075</th>\n",
       "      <td>29.85</td>\n",
       "      <td>68.24</td>\n",
       "      <td>1007.01</td>\n",
       "      <td>30.99</td>\n",
       "      <td>433.43</td>\n",
       "    </tr>\n",
       "  </tbody>\n",
       "</table>\n",
       "</div>"
      ],
      "text/plain": [
       "         AT      V       AP     RH      PE\n",
       "789   34.30  74.67  1015.98  25.89  427.84\n",
       "2262  33.94  74.67  1015.94  28.16  427.98\n",
       "3603  19.78  44.71  1015.70  29.43  465.49\n",
       "4367  34.65  74.67  1016.03  26.67  427.69\n",
       "6472  33.83  67.90  1005.94  29.86  428.12\n",
       "7983  19.31  44.71  1016.13  30.59  463.00\n",
       "8061  34.24  74.67  1016.24  25.56  425.58\n",
       "8737  18.76  44.71  1015.15  30.83  462.18\n",
       "8751  19.32  44.71  1015.30  28.81  464.38\n",
       "9015  35.01  74.67  1016.10  26.30  428.48\n",
       "9074  34.18  67.90  1005.87  30.34  425.50\n",
       "9075  29.85  68.24  1007.01  30.99  433.43"
      ]
     },
     "execution_count": 40,
     "metadata": {},
     "output_type": "execute_result"
    }
   ],
   "source": [
    "Lower_bound=df.loc['25%','RH'] - ((df.loc['InterQuartileRange','RH'])*1.5)\n",
    "Upper_bound=df.loc['75%','RH'] + ((df.loc['InterQuartileRange','RH'])*1.5)\n",
    "print(Lower_bound,Upper_bound)\n",
    "data[(data['RH']<Lower_bound) | (data['RH']>Upper_bound)]"
   ]
  },
  {
   "cell_type": "code",
   "execution_count": 41,
   "id": "f7c826fe",
   "metadata": {},
   "outputs": [
    {
     "name": "stdout",
     "output_type": "stream",
     "text": [
      "4.539999999999999 103.74000000000001\n"
     ]
    },
    {
     "data": {
      "text/html": [
       "<div>\n",
       "<style scoped>\n",
       "    .dataframe tbody tr th:only-of-type {\n",
       "        vertical-align: middle;\n",
       "    }\n",
       "\n",
       "    .dataframe tbody tr th {\n",
       "        vertical-align: top;\n",
       "    }\n",
       "\n",
       "    .dataframe thead th {\n",
       "        text-align: right;\n",
       "    }\n",
       "</style>\n",
       "<table border=\"1\" class=\"dataframe\">\n",
       "  <thead>\n",
       "    <tr style=\"text-align: right;\">\n",
       "      <th></th>\n",
       "      <th>AT</th>\n",
       "      <th>V</th>\n",
       "      <th>AP</th>\n",
       "      <th>RH</th>\n",
       "      <th>PE</th>\n",
       "    </tr>\n",
       "  </thead>\n",
       "  <tbody>\n",
       "  </tbody>\n",
       "</table>\n",
       "</div>"
      ],
      "text/plain": [
       "Empty DataFrame\n",
       "Columns: [AT, V, AP, RH, PE]\n",
       "Index: []"
      ]
     },
     "execution_count": 41,
     "metadata": {},
     "output_type": "execute_result"
    }
   ],
   "source": [
    "Lower_bound=df.loc['25%','V'] - ((df.loc['InterQuartileRange','V'])*1.5)\n",
    "Upper_bound=df.loc['75%','V'] + ((df.loc['InterQuartileRange','V'])*1.5)\n",
    "print(Lower_bound,Upper_bound)\n",
    "data[(data['V']<Lower_bound) | (data['V']>Upper_bound)]"
   ]
  },
  {
   "cell_type": "code",
   "execution_count": 42,
   "id": "2d8d0702",
   "metadata": {},
   "outputs": [
    {
     "name": "stdout",
     "output_type": "stream",
     "text": [
      "996.8600000000001 1029.5\n"
     ]
    },
    {
     "data": {
      "text/html": [
       "<div>\n",
       "<style scoped>\n",
       "    .dataframe tbody tr th:only-of-type {\n",
       "        vertical-align: middle;\n",
       "    }\n",
       "\n",
       "    .dataframe tbody tr th {\n",
       "        vertical-align: top;\n",
       "    }\n",
       "\n",
       "    .dataframe thead th {\n",
       "        text-align: right;\n",
       "    }\n",
       "</style>\n",
       "<table border=\"1\" class=\"dataframe\">\n",
       "  <thead>\n",
       "    <tr style=\"text-align: right;\">\n",
       "      <th></th>\n",
       "      <th>AT</th>\n",
       "      <th>V</th>\n",
       "      <th>AP</th>\n",
       "      <th>RH</th>\n",
       "      <th>PE</th>\n",
       "    </tr>\n",
       "  </thead>\n",
       "  <tbody>\n",
       "    <tr>\n",
       "      <th>238</th>\n",
       "      <td>13.49</td>\n",
       "      <td>44.47</td>\n",
       "      <td>1030.46</td>\n",
       "      <td>69.49</td>\n",
       "      <td>466.66</td>\n",
       "    </tr>\n",
       "    <tr>\n",
       "      <th>319</th>\n",
       "      <td>9.25</td>\n",
       "      <td>41.82</td>\n",
       "      <td>1033.25</td>\n",
       "      <td>74.73</td>\n",
       "      <td>478.48</td>\n",
       "    </tr>\n",
       "    <tr>\n",
       "      <th>368</th>\n",
       "      <td>13.49</td>\n",
       "      <td>44.47</td>\n",
       "      <td>1030.18</td>\n",
       "      <td>69.15</td>\n",
       "      <td>468.46</td>\n",
       "    </tr>\n",
       "    <tr>\n",
       "      <th>536</th>\n",
       "      <td>9.11</td>\n",
       "      <td>40.02</td>\n",
       "      <td>1031.10</td>\n",
       "      <td>83.02</td>\n",
       "      <td>479.03</td>\n",
       "    </tr>\n",
       "    <tr>\n",
       "      <th>571</th>\n",
       "      <td>5.97</td>\n",
       "      <td>36.25</td>\n",
       "      <td>1029.65</td>\n",
       "      <td>86.74</td>\n",
       "      <td>487.03</td>\n",
       "    </tr>\n",
       "    <tr>\n",
       "      <th>...</th>\n",
       "      <td>...</td>\n",
       "      <td>...</td>\n",
       "      <td>...</td>\n",
       "      <td>...</td>\n",
       "      <td>...</td>\n",
       "    </tr>\n",
       "    <tr>\n",
       "      <th>9068</th>\n",
       "      <td>15.62</td>\n",
       "      <td>41.23</td>\n",
       "      <td>992.89</td>\n",
       "      <td>83.99</td>\n",
       "      <td>463.21</td>\n",
       "    </tr>\n",
       "    <tr>\n",
       "      <th>9159</th>\n",
       "      <td>7.20</td>\n",
       "      <td>40.02</td>\n",
       "      <td>1031.71</td>\n",
       "      <td>69.89</td>\n",
       "      <td>480.53</td>\n",
       "    </tr>\n",
       "    <tr>\n",
       "      <th>9267</th>\n",
       "      <td>12.51</td>\n",
       "      <td>41.92</td>\n",
       "      <td>1031.21</td>\n",
       "      <td>64.66</td>\n",
       "      <td>468.41</td>\n",
       "    </tr>\n",
       "    <tr>\n",
       "      <th>9342</th>\n",
       "      <td>8.72</td>\n",
       "      <td>40.02</td>\n",
       "      <td>1031.32</td>\n",
       "      <td>78.09</td>\n",
       "      <td>477.86</td>\n",
       "    </tr>\n",
       "    <tr>\n",
       "      <th>9366</th>\n",
       "      <td>14.65</td>\n",
       "      <td>41.92</td>\n",
       "      <td>1030.61</td>\n",
       "      <td>63.07</td>\n",
       "      <td>464.95</td>\n",
       "    </tr>\n",
       "  </tbody>\n",
       "</table>\n",
       "<p>88 rows × 5 columns</p>\n",
       "</div>"
      ],
      "text/plain": [
       "         AT      V       AP     RH      PE\n",
       "238   13.49  44.47  1030.46  69.49  466.66\n",
       "319    9.25  41.82  1033.25  74.73  478.48\n",
       "368   13.49  44.47  1030.18  69.15  468.46\n",
       "536    9.11  40.02  1031.10  83.02  479.03\n",
       "571    5.97  36.25  1029.65  86.74  487.03\n",
       "...     ...    ...      ...    ...     ...\n",
       "9068  15.62  41.23   992.89  83.99  463.21\n",
       "9159   7.20  40.02  1031.71  69.89  480.53\n",
       "9267  12.51  41.92  1031.21  64.66  468.41\n",
       "9342   8.72  40.02  1031.32  78.09  477.86\n",
       "9366  14.65  41.92  1030.61  63.07  464.95\n",
       "\n",
       "[88 rows x 5 columns]"
      ]
     },
     "execution_count": 42,
     "metadata": {},
     "output_type": "execute_result"
    }
   ],
   "source": [
    "Lower_bound=df.loc['25%','AP'] - ((df.loc['InterQuartileRange','AP'])*1.5)\n",
    "Upper_bound=df.loc['75%','AP'] + ((df.loc['InterQuartileRange','AP'])*1.5)\n",
    "print(Lower_bound,Upper_bound)\n",
    "data[(data['AP']<Lower_bound) | (data['AP']>Upper_bound)]"
   ]
  },
  {
   "cell_type": "markdown",
   "id": "121242a7",
   "metadata": {},
   "source": [
    "### We can clearly see that the data have some outliers for 'AP' and 'RH' variables. I have also printed the observations which are detected as outliers."
   ]
  },
  {
   "cell_type": "markdown",
   "id": "45392630",
   "metadata": {},
   "source": [
    "## D)"
   ]
  },
  {
   "cell_type": "code",
   "execution_count": 43,
   "id": "65eb9a96",
   "metadata": {},
   "outputs": [
    {
     "data": {
      "text/html": [
       "<table class=\"simpletable\">\n",
       "<caption>OLS Regression Results</caption>\n",
       "<tr>\n",
       "  <th>Dep. Variable:</th>           <td>PE</td>        <th>  R-squared:         </th> <td>   0.929</td> \n",
       "</tr>\n",
       "<tr>\n",
       "  <th>Model:</th>                   <td>OLS</td>       <th>  Adj. R-squared:    </th> <td>   0.929</td> \n",
       "</tr>\n",
       "<tr>\n",
       "  <th>Method:</th>             <td>Least Squares</td>  <th>  F-statistic:       </th> <td>3.114e+04</td>\n",
       "</tr>\n",
       "<tr>\n",
       "  <th>Date:</th>             <td>Fri, 11 Feb 2022</td> <th>  Prob (F-statistic):</th>  <td>  0.00</td>  \n",
       "</tr>\n",
       "<tr>\n",
       "  <th>Time:</th>                 <td>22:56:40</td>     <th>  Log-Likelihood:    </th> <td> -28088.</td> \n",
       "</tr>\n",
       "<tr>\n",
       "  <th>No. Observations:</th>      <td>  9568</td>      <th>  AIC:               </th> <td>5.619e+04</td>\n",
       "</tr>\n",
       "<tr>\n",
       "  <th>Df Residuals:</th>          <td>  9563</td>      <th>  BIC:               </th> <td>5.622e+04</td>\n",
       "</tr>\n",
       "<tr>\n",
       "  <th>Df Model:</th>              <td>     4</td>      <th>                     </th>     <td> </td>    \n",
       "</tr>\n",
       "<tr>\n",
       "  <th>Covariance Type:</th>      <td>nonrobust</td>    <th>                     </th>     <td> </td>    \n",
       "</tr>\n",
       "</table>\n",
       "<table class=\"simpletable\">\n",
       "<tr>\n",
       "      <td></td>         <th>coef</th>     <th>std err</th>      <th>t</th>      <th>P>|t|</th>  <th>[0.025</th>    <th>0.975]</th>  \n",
       "</tr>\n",
       "<tr>\n",
       "  <th>Intercept</th> <td>  454.6093</td> <td>    9.749</td> <td>   46.634</td> <td> 0.000</td> <td>  435.500</td> <td>  473.718</td>\n",
       "</tr>\n",
       "<tr>\n",
       "  <th>AT</th>        <td>   -1.9775</td> <td>    0.015</td> <td> -129.342</td> <td> 0.000</td> <td>   -2.007</td> <td>   -1.948</td>\n",
       "</tr>\n",
       "<tr>\n",
       "  <th>V</th>         <td>   -0.2339</td> <td>    0.007</td> <td>  -32.122</td> <td> 0.000</td> <td>   -0.248</td> <td>   -0.220</td>\n",
       "</tr>\n",
       "<tr>\n",
       "  <th>AP</th>        <td>    0.0621</td> <td>    0.009</td> <td>    6.564</td> <td> 0.000</td> <td>    0.044</td> <td>    0.081</td>\n",
       "</tr>\n",
       "<tr>\n",
       "  <th>RH</th>        <td>   -0.1581</td> <td>    0.004</td> <td>  -37.918</td> <td> 0.000</td> <td>   -0.166</td> <td>   -0.150</td>\n",
       "</tr>\n",
       "</table>\n",
       "<table class=\"simpletable\">\n",
       "<tr>\n",
       "  <th>Omnibus:</th>       <td>892.002</td> <th>  Durbin-Watson:     </th> <td>   2.033</td>\n",
       "</tr>\n",
       "<tr>\n",
       "  <th>Prob(Omnibus):</th> <td> 0.000</td>  <th>  Jarque-Bera (JB):  </th> <td>4086.777</td>\n",
       "</tr>\n",
       "<tr>\n",
       "  <th>Skew:</th>          <td>-0.352</td>  <th>  Prob(JB):          </th> <td>    0.00</td>\n",
       "</tr>\n",
       "<tr>\n",
       "  <th>Kurtosis:</th>      <td> 6.123</td>  <th>  Cond. No.          </th> <td>2.13e+05</td>\n",
       "</tr>\n",
       "</table><br/><br/>Notes:<br/>[1] Standard Errors assume that the covariance matrix of the errors is correctly specified.<br/>[2] The condition number is large, 2.13e+05. This might indicate that there are<br/>strong multicollinearity or other numerical problems."
      ],
      "text/plain": [
       "<class 'statsmodels.iolib.summary.Summary'>\n",
       "\"\"\"\n",
       "                            OLS Regression Results                            \n",
       "==============================================================================\n",
       "Dep. Variable:                     PE   R-squared:                       0.929\n",
       "Model:                            OLS   Adj. R-squared:                  0.929\n",
       "Method:                 Least Squares   F-statistic:                 3.114e+04\n",
       "Date:                Fri, 11 Feb 2022   Prob (F-statistic):               0.00\n",
       "Time:                        22:56:40   Log-Likelihood:                -28088.\n",
       "No. Observations:                9568   AIC:                         5.619e+04\n",
       "Df Residuals:                    9563   BIC:                         5.622e+04\n",
       "Df Model:                           4                                         \n",
       "Covariance Type:            nonrobust                                         \n",
       "==============================================================================\n",
       "                 coef    std err          t      P>|t|      [0.025      0.975]\n",
       "------------------------------------------------------------------------------\n",
       "Intercept    454.6093      9.749     46.634      0.000     435.500     473.718\n",
       "AT            -1.9775      0.015   -129.342      0.000      -2.007      -1.948\n",
       "V             -0.2339      0.007    -32.122      0.000      -0.248      -0.220\n",
       "AP             0.0621      0.009      6.564      0.000       0.044       0.081\n",
       "RH            -0.1581      0.004    -37.918      0.000      -0.166      -0.150\n",
       "==============================================================================\n",
       "Omnibus:                      892.002   Durbin-Watson:                   2.033\n",
       "Prob(Omnibus):                  0.000   Jarque-Bera (JB):             4086.777\n",
       "Skew:                          -0.352   Prob(JB):                         0.00\n",
       "Kurtosis:                       6.123   Cond. No.                     2.13e+05\n",
       "==============================================================================\n",
       "\n",
       "Notes:\n",
       "[1] Standard Errors assume that the covariance matrix of the errors is correctly specified.\n",
       "[2] The condition number is large, 2.13e+05. This might indicate that there are\n",
       "strong multicollinearity or other numerical problems.\n",
       "\"\"\""
      ]
     },
     "execution_count": 43,
     "metadata": {},
     "output_type": "execute_result"
    }
   ],
   "source": [
    "LinearModel5=smf.ols('PE~AT+V+AP+RH',data).fit()\n",
    "prediction_done=LinearModel5.predict(data)\n",
    "# plt.scatter(data['AP'],data['PE'])\n",
    "# plt.plot(data['AP'],prediction_done,color='red')\n",
    "# plt.xlabel('Values for AP (Ambiennt Pressure)')\n",
    "# plt.ylabel('Values for PE (Energy Output)')\n",
    "\n",
    "LinearModel5.summary()"
   ]
  },
  {
   "cell_type": "markdown",
   "id": "a4662013",
   "metadata": {},
   "source": [
    "### We can reject the null hypothesis for all variable because each of them have some coefficient value which\n",
    "### will affect the regression value and also p value for all of them is qpproximately 0 and less than .05."
   ]
  },
  {
   "cell_type": "markdown",
   "id": "48815260",
   "metadata": {},
   "source": [
    "## E) Plotting results from question C and question D"
   ]
  },
  {
   "cell_type": "code",
   "execution_count": 44,
   "id": "f73ed15f",
   "metadata": {},
   "outputs": [
    {
     "name": "stdout",
     "output_type": "stream",
     "text": [
      "Coeff. on Linear Regression(AT): -2.1713199585178047 and Coeff. on Multiple Regression(AT): -1.9775131066353864\n",
      "Coeff. on Linear Regression(V): -1.1681351265557107 and Coeff. on Multiple Regression(V): -0.2339164225825025\n",
      "Coeff. on Linear Regression(AP): 1.4898716733991129 and Coeff. on Multiple Regression(AP): 0.06208294378084911\n",
      "Coeff. on Linear Regression(RH): 0.45565010226298014 and Coeff. on Multiple Regression(RH): -0.15805410291641003\n"
     ]
    },
    {
     "data": {
      "text/plain": [
       "Text(0, 0.5, 'Coefficient on Multiple Linear Regression')"
      ]
     },
     "execution_count": 44,
     "metadata": {},
     "output_type": "execute_result"
    },
    {
     "data": {
      "image/png": "[encoded data removed]",
      "text/plain": [
       "<Figure size 432x288 with 1 Axes>"
      ]
     },
     "metadata": {
      "needs_background": "light"
     },
     "output_type": "display_data"
    }
   ],
   "source": [
    "print('Coeff. on Linear Regression(AT):',LinearModel1.params[1],'and','Coeff. on Multiple Regression(AT):',LinearModel5.params[1])\n",
    "plt.scatter(LinearModel1.params[1],LinearModel5.params[1], color='g')\n",
    "print('Coeff. on Linear Regression(V):',LinearModel2.params[1],'and','Coeff. on Multiple Regression(V):',LinearModel5.params[2])\n",
    "plt.scatter(LinearModel2.params[1],LinearModel5.params[2],color='red')\n",
    "print('Coeff. on Linear Regression(AP):',LinearModel3.params[1],'and','Coeff. on Multiple Regression(AP):',LinearModel5.params[3])\n",
    "plt.scatter(LinearModel3.params[1],LinearModel5.params[3],color='y')\n",
    "print('Coeff. on Linear Regression(RH):',LinearModel4.params[1],'and','Coeff. on Multiple Regression(RH):',LinearModel5.params[4])\n",
    "plt.scatter(LinearModel4.params[1],LinearModel5.params[4],color='b')\n",
    "\n",
    "plt.xlabel('Coefficient on Simple Linear Regression Green:AT, Red:V, yellow:AP, Blue:RH')\n",
    "plt.ylabel('Coefficient on Multiple Linear Regression')"
   ]
  },
  {
   "cell_type": "markdown",
   "id": "4888e440",
   "metadata": {},
   "source": [
    "#### If we compare the results for coefficients for linear Regression and Multiple Regression we can easily say that magnitude or absolute value of coefficient of Linear regression are more than the Multiple regression."
   ]
  },
  {
   "cell_type": "markdown",
   "id": "17b42557",
   "metadata": {},
   "source": [
    "## F)"
   ]
  },
  {
   "cell_type": "code",
   "execution_count": 45,
   "id": "efbc539d",
   "metadata": {},
   "outputs": [],
   "source": [
    "# Trying statsmodel to do polynomial regression"
   ]
  },
  {
   "cell_type": "code",
   "execution_count": 46,
   "id": "3c90b8a5",
   "metadata": {},
   "outputs": [],
   "source": [
    "df1=data['AT']\n",
    "df2=data['PE']\n",
    "poly=PolynomialFeatures(degree=3)\n",
    "df1=pd.DataFrame(df1)\n",
    "at=poly.fit_transform(df1)"
   ]
  },
  {
   "cell_type": "code",
   "execution_count": 47,
   "id": "067ef0d2",
   "metadata": {},
   "outputs": [
    {
     "data": {
      "text/html": [
       "<table class=\"simpletable\">\n",
       "<caption>OLS Regression Results</caption>\n",
       "<tr>\n",
       "  <th>Dep. Variable:</th>           <td>PE</td>        <th>  R-squared:         </th> <td>   0.912</td> \n",
       "</tr>\n",
       "<tr>\n",
       "  <th>Model:</th>                   <td>OLS</td>       <th>  Adj. R-squared:    </th> <td>   0.912</td> \n",
       "</tr>\n",
       "<tr>\n",
       "  <th>Method:</th>             <td>Least Squares</td>  <th>  F-statistic:       </th> <td>3.299e+04</td>\n",
       "</tr>\n",
       "<tr>\n",
       "  <th>Date:</th>             <td>Fri, 11 Feb 2022</td> <th>  Prob (F-statistic):</th>  <td>  0.00</td>  \n",
       "</tr>\n",
       "<tr>\n",
       "  <th>Time:</th>                 <td>22:56:40</td>     <th>  Log-Likelihood:    </th> <td> -29101.</td> \n",
       "</tr>\n",
       "<tr>\n",
       "  <th>No. Observations:</th>      <td>  9568</td>      <th>  AIC:               </th> <td>5.821e+04</td>\n",
       "</tr>\n",
       "<tr>\n",
       "  <th>Df Residuals:</th>          <td>  9564</td>      <th>  BIC:               </th> <td>5.824e+04</td>\n",
       "</tr>\n",
       "<tr>\n",
       "  <th>Df Model:</th>              <td>     3</td>      <th>                     </th>     <td> </td>    \n",
       "</tr>\n",
       "<tr>\n",
       "  <th>Covariance Type:</th>      <td>nonrobust</td>    <th>                     </th>     <td> </td>    \n",
       "</tr>\n",
       "</table>\n",
       "<table class=\"simpletable\">\n",
       "<tr>\n",
       "      <td></td>         <th>coef</th>     <th>std err</th>      <th>t</th>      <th>P>|t|</th>  <th>[0.025</th>    <th>0.975]</th>  \n",
       "</tr>\n",
       "<tr>\n",
       "  <th>Intercept</th> <td>  246.3641</td> <td>    0.336</td> <td>  732.248</td> <td> 0.000</td> <td>  245.705</td> <td>  247.024</td>\n",
       "</tr>\n",
       "<tr>\n",
       "  <th>at[0]</th>     <td>  246.3641</td> <td>    0.336</td> <td>  732.248</td> <td> 0.000</td> <td>  245.705</td> <td>  247.024</td>\n",
       "</tr>\n",
       "<tr>\n",
       "  <th>at[1]</th>     <td>   -0.6103</td> <td>    0.124</td> <td>   -4.941</td> <td> 0.000</td> <td>   -0.852</td> <td>   -0.368</td>\n",
       "</tr>\n",
       "<tr>\n",
       "  <th>at[2]</th>     <td>   -0.1251</td> <td>    0.007</td> <td>  -18.199</td> <td> 0.000</td> <td>   -0.139</td> <td>   -0.112</td>\n",
       "</tr>\n",
       "<tr>\n",
       "  <th>at[3]</th>     <td>    0.0027</td> <td>    0.000</td> <td>   22.594</td> <td> 0.000</td> <td>    0.002</td> <td>    0.003</td>\n",
       "</tr>\n",
       "</table>\n",
       "<table class=\"simpletable\">\n",
       "<tr>\n",
       "  <th>Omnibus:</th>       <td>648.041</td> <th>  Durbin-Watson:     </th> <td>   2.033</td>\n",
       "</tr>\n",
       "<tr>\n",
       "  <th>Prob(Omnibus):</th> <td> 0.000</td>  <th>  Jarque-Bera (JB):  </th> <td>2767.059</td>\n",
       "</tr>\n",
       "<tr>\n",
       "  <th>Skew:</th>          <td>-0.191</td>  <th>  Prob(JB):          </th> <td>    0.00</td>\n",
       "</tr>\n",
       "<tr>\n",
       "  <th>Kurtosis:</th>      <td> 5.607</td>  <th>  Cond. No.          </th> <td>3.18e+18</td>\n",
       "</tr>\n",
       "</table><br/><br/>Notes:<br/>[1] Standard Errors assume that the covariance matrix of the errors is correctly specified.<br/>[2] The smallest eigenvalue is 1.97e-25. This might indicate that there are<br/>strong multicollinearity problems or that the design matrix is singular."
      ],
      "text/plain": [
       "<class 'statsmodels.iolib.summary.Summary'>\n",
       "\"\"\"\n",
       "                            OLS Regression Results                            \n",
       "==============================================================================\n",
       "Dep. Variable:                     PE   R-squared:                       0.912\n",
       "Model:                            OLS   Adj. R-squared:                  0.912\n",
       "Method:                 Least Squares   F-statistic:                 3.299e+04\n",
       "Date:                Fri, 11 Feb 2022   Prob (F-statistic):               0.00\n",
       "Time:                        22:56:40   Log-Likelihood:                -29101.\n",
       "No. Observations:                9568   AIC:                         5.821e+04\n",
       "Df Residuals:                    9564   BIC:                         5.824e+04\n",
       "Df Model:                           3                                         \n",
       "Covariance Type:            nonrobust                                         \n",
       "==============================================================================\n",
       "                 coef    std err          t      P>|t|      [0.025      0.975]\n",
       "------------------------------------------------------------------------------\n",
       "Intercept    246.3641      0.336    732.248      0.000     245.705     247.024\n",
       "at[0]        246.3641      0.336    732.248      0.000     245.705     247.024\n",
       "at[1]         -0.6103      0.124     -4.941      0.000      -0.852      -0.368\n",
       "at[2]         -0.1251      0.007    -18.199      0.000      -0.139      -0.112\n",
       "at[3]          0.0027      0.000     22.594      0.000       0.002       0.003\n",
       "==============================================================================\n",
       "Omnibus:                      648.041   Durbin-Watson:                   2.033\n",
       "Prob(Omnibus):                  0.000   Jarque-Bera (JB):             2767.059\n",
       "Skew:                          -0.191   Prob(JB):                         0.00\n",
       "Kurtosis:                       5.607   Cond. No.                     3.18e+18\n",
       "==============================================================================\n",
       "\n",
       "Notes:\n",
       "[1] Standard Errors assume that the covariance matrix of the errors is correctly specified.\n",
       "[2] The smallest eigenvalue is 1.97e-25. This might indicate that there are\n",
       "strong multicollinearity problems or that the design matrix is singular.\n",
       "\"\"\""
      ]
     },
     "execution_count": 47,
     "metadata": {},
     "output_type": "execute_result"
    },
    {
     "data": {
      "image/png": "[encoded data removed]",
      "text/plain": [
       "<Figure size 432x288 with 1 Axes>"
      ]
     },
     "metadata": {
      "needs_background": "light"
     },
     "output_type": "display_data"
    }
   ],
   "source": [
    "\n",
    "LinearModel4=smf.ols('PE~at',data).fit()\n",
    "prediction_done=LinearModel4.predict(data)\n",
    "\n",
    "\n",
    "\n",
    "plt.scatter(data['AT'],data['PE'])\n",
    "plt.plot(data['AT'],prediction_done,color='red',linewidth=.001)\n",
    "plt.xlabel('Values for AT (Tepoerature)')\n",
    "plt.ylabel('Values for PE (Energy Output)')\n",
    "LinearModel4.summary()"
   ]
  },
  {
   "cell_type": "code",
   "execution_count": 48,
   "id": "67f4ae5d",
   "metadata": {},
   "outputs": [
    {
     "data": {
      "text/html": [
       "<table class=\"simpletable\">\n",
       "<caption>OLS Regression Results</caption>\n",
       "<tr>\n",
       "  <th>Dep. Variable:</th>           <td>PE</td>        <th>  R-squared:         </th> <td>   0.775</td> \n",
       "</tr>\n",
       "<tr>\n",
       "  <th>Model:</th>                   <td>OLS</td>       <th>  Adj. R-squared:    </th> <td>   0.775</td> \n",
       "</tr>\n",
       "<tr>\n",
       "  <th>Method:</th>             <td>Least Squares</td>  <th>  F-statistic:       </th> <td>1.098e+04</td>\n",
       "</tr>\n",
       "<tr>\n",
       "  <th>Date:</th>             <td>Fri, 11 Feb 2022</td> <th>  Prob (F-statistic):</th>  <td>  0.00</td>  \n",
       "</tr>\n",
       "<tr>\n",
       "  <th>Time:</th>                 <td>22:56:41</td>     <th>  Log-Likelihood:    </th> <td> -33585.</td> \n",
       "</tr>\n",
       "<tr>\n",
       "  <th>No. Observations:</th>      <td>  9568</td>      <th>  AIC:               </th> <td>6.718e+04</td>\n",
       "</tr>\n",
       "<tr>\n",
       "  <th>Df Residuals:</th>          <td>  9564</td>      <th>  BIC:               </th> <td>6.721e+04</td>\n",
       "</tr>\n",
       "<tr>\n",
       "  <th>Df Model:</th>              <td>     3</td>      <th>                     </th>     <td> </td>    \n",
       "</tr>\n",
       "<tr>\n",
       "  <th>Covariance Type:</th>      <td>nonrobust</td>    <th>                     </th>     <td> </td>    \n",
       "</tr>\n",
       "</table>\n",
       "<table class=\"simpletable\">\n",
       "<tr>\n",
       "      <td></td>         <th>coef</th>     <th>std err</th>      <th>t</th>      <th>P>|t|</th>  <th>[0.025</th>    <th>0.975]</th>  \n",
       "</tr>\n",
       "<tr>\n",
       "  <th>Intercept</th> <td>  277.0734</td> <td>    4.575</td> <td>   60.557</td> <td> 0.000</td> <td>  268.105</td> <td>  286.042</td>\n",
       "</tr>\n",
       "<tr>\n",
       "  <th>v[0]</th>      <td>  277.0734</td> <td>    4.575</td> <td>   60.557</td> <td> 0.000</td> <td>  268.105</td> <td>  286.042</td>\n",
       "</tr>\n",
       "<tr>\n",
       "  <th>v[1]</th>      <td>   -2.1444</td> <td>    0.509</td> <td>   -4.214</td> <td> 0.000</td> <td>   -3.142</td> <td>   -1.147</td>\n",
       "</tr>\n",
       "<tr>\n",
       "  <th>v[2]</th>      <td>   -0.0027</td> <td>    0.009</td> <td>   -0.294</td> <td> 0.768</td> <td>   -0.021</td> <td>    0.015</td>\n",
       "</tr>\n",
       "<tr>\n",
       "  <th>v[3]</th>      <td>    0.0001</td> <td> 5.45e-05</td> <td>    2.465</td> <td> 0.014</td> <td> 2.75e-05</td> <td>    0.000</td>\n",
       "</tr>\n",
       "</table>\n",
       "<table class=\"simpletable\">\n",
       "<tr>\n",
       "  <th>Omnibus:</th>       <td>160.101</td> <th>  Durbin-Watson:     </th> <td>   2.009</td>\n",
       "</tr>\n",
       "<tr>\n",
       "  <th>Prob(Omnibus):</th> <td> 0.000</td>  <th>  Jarque-Bera (JB):  </th> <td> 279.778</td>\n",
       "</tr>\n",
       "<tr>\n",
       "  <th>Skew:</th>          <td>-0.125</td>  <th>  Prob(JB):          </th> <td>1.77e-61</td>\n",
       "</tr>\n",
       "<tr>\n",
       "  <th>Kurtosis:</th>      <td> 3.800</td>  <th>  Cond. No.          </th> <td>1.12e+19</td>\n",
       "</tr>\n",
       "</table><br/><br/>Notes:<br/>[1] Standard Errors assume that the covariance matrix of the errors is correctly specified.<br/>[2] The smallest eigenvalue is 3.82e-24. This might indicate that there are<br/>strong multicollinearity problems or that the design matrix is singular."
      ],
      "text/plain": [
       "<class 'statsmodels.iolib.summary.Summary'>\n",
       "\"\"\"\n",
       "                            OLS Regression Results                            \n",
       "==============================================================================\n",
       "Dep. Variable:                     PE   R-squared:                       0.775\n",
       "Model:                            OLS   Adj. R-squared:                  0.775\n",
       "Method:                 Least Squares   F-statistic:                 1.098e+04\n",
       "Date:                Fri, 11 Feb 2022   Prob (F-statistic):               0.00\n",
       "Time:                        22:56:41   Log-Likelihood:                -33585.\n",
       "No. Observations:                9568   AIC:                         6.718e+04\n",
       "Df Residuals:                    9564   BIC:                         6.721e+04\n",
       "Df Model:                           3                                         \n",
       "Covariance Type:            nonrobust                                         \n",
       "==============================================================================\n",
       "                 coef    std err          t      P>|t|      [0.025      0.975]\n",
       "------------------------------------------------------------------------------\n",
       "Intercept    277.0734      4.575     60.557      0.000     268.105     286.042\n",
       "v[0]         277.0734      4.575     60.557      0.000     268.105     286.042\n",
       "v[1]          -2.1444      0.509     -4.214      0.000      -3.142      -1.147\n",
       "v[2]          -0.0027      0.009     -0.294      0.768      -0.021       0.015\n",
       "v[3]           0.0001   5.45e-05      2.465      0.014    2.75e-05       0.000\n",
       "==============================================================================\n",
       "Omnibus:                      160.101   Durbin-Watson:                   2.009\n",
       "Prob(Omnibus):                  0.000   Jarque-Bera (JB):              279.778\n",
       "Skew:                          -0.125   Prob(JB):                     1.77e-61\n",
       "Kurtosis:                       3.800   Cond. No.                     1.12e+19\n",
       "==============================================================================\n",
       "\n",
       "Notes:\n",
       "[1] Standard Errors assume that the covariance matrix of the errors is correctly specified.\n",
       "[2] The smallest eigenvalue is 3.82e-24. This might indicate that there are\n",
       "strong multicollinearity problems or that the design matrix is singular.\n",
       "\"\"\""
      ]
     },
     "execution_count": 48,
     "metadata": {},
     "output_type": "execute_result"
    },
    {
     "data": {
      "image/png": "[encoded data removed]",
      "text/plain": [
       "<Figure size 432x288 with 1 Axes>"
      ]
     },
     "metadata": {
      "needs_background": "light"
     },
     "output_type": "display_data"
    }
   ],
   "source": [
    "df1=data['V']\n",
    "df2=data['PE']\n",
    "poly=PolynomialFeatures(degree=3)\n",
    "df1=pd.DataFrame(df1)\n",
    "v=poly.fit_transform(df1)\n",
    "\n",
    "LinearModel4=smf.ols('PE~v',data).fit()\n",
    "prediction_done=LinearModel4.predict(data)\n",
    "\n",
    "\n",
    "plt.scatter(data['V'],data['PE'])\n",
    "plt.plot(data['V'],prediction_done,color='red',linewidth=.001)\n",
    "plt.xlabel('Values for V (Vaccum)')\n",
    "plt.ylabel('Values for PE (Energy Output)')\n",
    "LinearModel4.summary()"
   ]
  },
  {
   "cell_type": "code",
   "execution_count": 49,
   "id": "715ba0bf",
   "metadata": {},
   "outputs": [
    {
     "data": {
      "text/html": [
       "<table class=\"simpletable\">\n",
       "<caption>OLS Regression Results</caption>\n",
       "<tr>\n",
       "  <th>Dep. Variable:</th>           <td>PE</td>        <th>  R-squared:         </th> <td>   0.275</td> \n",
       "</tr>\n",
       "<tr>\n",
       "  <th>Model:</th>                   <td>OLS</td>       <th>  Adj. R-squared:    </th> <td>   0.275</td> \n",
       "</tr>\n",
       "<tr>\n",
       "  <th>Method:</th>             <td>Least Squares</td>  <th>  F-statistic:       </th> <td>   1813.</td> \n",
       "</tr>\n",
       "<tr>\n",
       "  <th>Date:</th>             <td>Fri, 11 Feb 2022</td> <th>  Prob (F-statistic):</th>  <td>  0.00</td>  \n",
       "</tr>\n",
       "<tr>\n",
       "  <th>Time:</th>                 <td>22:56:41</td>     <th>  Log-Likelihood:    </th> <td> -39184.</td> \n",
       "</tr>\n",
       "<tr>\n",
       "  <th>No. Observations:</th>      <td>  9568</td>      <th>  AIC:               </th> <td>7.837e+04</td>\n",
       "</tr>\n",
       "<tr>\n",
       "  <th>Df Residuals:</th>          <td>  9565</td>      <th>  BIC:               </th> <td>7.840e+04</td>\n",
       "</tr>\n",
       "<tr>\n",
       "  <th>Df Model:</th>              <td>     2</td>      <th>                     </th>     <td> </td>    \n",
       "</tr>\n",
       "<tr>\n",
       "  <th>Covariance Type:</th>      <td>nonrobust</td>    <th>                     </th>     <td> </td>    \n",
       "</tr>\n",
       "</table>\n",
       "<table class=\"simpletable\">\n",
       "<tr>\n",
       "      <td></td>         <th>coef</th>     <th>std err</th>      <th>t</th>      <th>P>|t|</th>  <th>[0.025</th>    <th>0.975]</th>  \n",
       "</tr>\n",
       "<tr>\n",
       "  <th>Intercept</th> <td>    0.0747</td> <td>    0.009</td> <td>    8.415</td> <td> 0.000</td> <td>    0.057</td> <td>    0.092</td>\n",
       "</tr>\n",
       "<tr>\n",
       "  <th>ap[0]</th>     <td>    0.0747</td> <td>    0.009</td> <td>    8.415</td> <td> 0.000</td> <td>    0.057</td> <td>    0.092</td>\n",
       "</tr>\n",
       "<tr>\n",
       "  <th>ap[1]</th>     <td>   25.2554</td> <td>    3.001</td> <td>    8.415</td> <td> 0.000</td> <td>   19.372</td> <td>   31.139</td>\n",
       "</tr>\n",
       "<tr>\n",
       "  <th>ap[2]</th>     <td>   -0.0500</td> <td>    0.006</td> <td>   -8.439</td> <td> 0.000</td> <td>   -0.062</td> <td>   -0.038</td>\n",
       "</tr>\n",
       "<tr>\n",
       "  <th>ap[3]</th>     <td> 2.514e-05</td> <td> 2.92e-06</td> <td>    8.613</td> <td> 0.000</td> <td> 1.94e-05</td> <td> 3.09e-05</td>\n",
       "</tr>\n",
       "</table>\n",
       "<table class=\"simpletable\">\n",
       "<tr>\n",
       "  <th>Omnibus:</th>       <td>556.766</td> <th>  Durbin-Watson:     </th> <td>   1.997</td> \n",
       "</tr>\n",
       "<tr>\n",
       "  <th>Prob(Omnibus):</th> <td> 0.000</td>  <th>  Jarque-Bera (JB):  </th> <td> 640.319</td> \n",
       "</tr>\n",
       "<tr>\n",
       "  <th>Skew:</th>          <td> 0.621</td>  <th>  Prob(JB):          </th> <td>9.05e-140</td>\n",
       "</tr>\n",
       "<tr>\n",
       "  <th>Kurtosis:</th>      <td> 2.751</td>  <th>  Cond. No.          </th> <td>3.55e+20</td> \n",
       "</tr>\n",
       "</table><br/><br/>Notes:<br/>[1] Standard Errors assume that the covariance matrix of the errors is correctly specified.<br/>[2] The smallest eigenvalue is 8.2e-20. This might indicate that there are<br/>strong multicollinearity problems or that the design matrix is singular."
      ],
      "text/plain": [
       "<class 'statsmodels.iolib.summary.Summary'>\n",
       "\"\"\"\n",
       "                            OLS Regression Results                            \n",
       "==============================================================================\n",
       "Dep. Variable:                     PE   R-squared:                       0.275\n",
       "Model:                            OLS   Adj. R-squared:                  0.275\n",
       "Method:                 Least Squares   F-statistic:                     1813.\n",
       "Date:                Fri, 11 Feb 2022   Prob (F-statistic):               0.00\n",
       "Time:                        22:56:41   Log-Likelihood:                -39184.\n",
       "No. Observations:                9568   AIC:                         7.837e+04\n",
       "Df Residuals:                    9565   BIC:                         7.840e+04\n",
       "Df Model:                           2                                         \n",
       "Covariance Type:            nonrobust                                         \n",
       "==============================================================================\n",
       "                 coef    std err          t      P>|t|      [0.025      0.975]\n",
       "------------------------------------------------------------------------------\n",
       "Intercept      0.0747      0.009      8.415      0.000       0.057       0.092\n",
       "ap[0]          0.0747      0.009      8.415      0.000       0.057       0.092\n",
       "ap[1]         25.2554      3.001      8.415      0.000      19.372      31.139\n",
       "ap[2]         -0.0500      0.006     -8.439      0.000      -0.062      -0.038\n",
       "ap[3]       2.514e-05   2.92e-06      8.613      0.000    1.94e-05    3.09e-05\n",
       "==============================================================================\n",
       "Omnibus:                      556.766   Durbin-Watson:                   1.997\n",
       "Prob(Omnibus):                  0.000   Jarque-Bera (JB):              640.319\n",
       "Skew:                           0.621   Prob(JB):                    9.05e-140\n",
       "Kurtosis:                       2.751   Cond. No.                     3.55e+20\n",
       "==============================================================================\n",
       "\n",
       "Notes:\n",
       "[1] Standard Errors assume that the covariance matrix of the errors is correctly specified.\n",
       "[2] The smallest eigenvalue is 8.2e-20. This might indicate that there are\n",
       "strong multicollinearity problems or that the design matrix is singular.\n",
       "\"\"\""
      ]
     },
     "execution_count": 49,
     "metadata": {},
     "output_type": "execute_result"
    },
    {
     "data": {
      "image/png": "[encoded data removed]",
      "text/plain": [
       "<Figure size 432x288 with 1 Axes>"
      ]
     },
     "metadata": {
      "needs_background": "light"
     },
     "output_type": "display_data"
    }
   ],
   "source": [
    "df1=data['AP']\n",
    "df2=data['PE']\n",
    "poly=PolynomialFeatures(degree=3)\n",
    "df1=pd.DataFrame(df1)\n",
    "ap=poly.fit_transform(df1)\n",
    "\n",
    "LinearModel4=smf.ols('PE~ap',data).fit()\n",
    "prediction_done=LinearModel4.predict(data)\n",
    "\n",
    "\n",
    "plt.scatter(data['AP'],data['PE'])\n",
    "plt.plot(data['AP'],prediction_done,color='red')\n",
    "plt.xlabel('Values for AP (Pressure)')\n",
    "plt.ylabel('Values for PE (Energy Output)')\n",
    "LinearModel4.summary()"
   ]
  },
  {
   "cell_type": "code",
   "execution_count": 50,
   "id": "851c172f",
   "metadata": {},
   "outputs": [
    {
     "data": {
      "text/html": [
       "<table class=\"simpletable\">\n",
       "<caption>OLS Regression Results</caption>\n",
       "<tr>\n",
       "  <th>Dep. Variable:</th>           <td>PE</td>        <th>  R-squared:         </th> <td>   0.154</td> \n",
       "</tr>\n",
       "<tr>\n",
       "  <th>Model:</th>                   <td>OLS</td>       <th>  Adj. R-squared:    </th> <td>   0.153</td> \n",
       "</tr>\n",
       "<tr>\n",
       "  <th>Method:</th>             <td>Least Squares</td>  <th>  F-statistic:       </th> <td>   579.2</td> \n",
       "</tr>\n",
       "<tr>\n",
       "  <th>Date:</th>             <td>Fri, 11 Feb 2022</td> <th>  Prob (F-statistic):</th>  <td>  0.00</td>  \n",
       "</tr>\n",
       "<tr>\n",
       "  <th>Time:</th>                 <td>22:56:41</td>     <th>  Log-Likelihood:    </th> <td> -39923.</td> \n",
       "</tr>\n",
       "<tr>\n",
       "  <th>No. Observations:</th>      <td>  9568</td>      <th>  AIC:               </th> <td>7.985e+04</td>\n",
       "</tr>\n",
       "<tr>\n",
       "  <th>Df Residuals:</th>          <td>  9564</td>      <th>  BIC:               </th> <td>7.988e+04</td>\n",
       "</tr>\n",
       "<tr>\n",
       "  <th>Df Model:</th>              <td>     3</td>      <th>                     </th>     <td> </td>    \n",
       "</tr>\n",
       "<tr>\n",
       "  <th>Covariance Type:</th>      <td>nonrobust</td>    <th>                     </th>     <td> </td>    \n",
       "</tr>\n",
       "</table>\n",
       "<table class=\"simpletable\">\n",
       "<tr>\n",
       "      <td></td>         <th>coef</th>     <th>std err</th>      <th>t</th>      <th>P>|t|</th>  <th>[0.025</th>    <th>0.975]</th>  \n",
       "</tr>\n",
       "<tr>\n",
       "  <th>Intercept</th> <td>  234.2068</td> <td>    5.272</td> <td>   44.422</td> <td> 0.000</td> <td>  223.872</td> <td>  244.542</td>\n",
       "</tr>\n",
       "<tr>\n",
       "  <th>rh[0]</th>     <td>  234.2068</td> <td>    5.272</td> <td>   44.422</td> <td> 0.000</td> <td>  223.872</td> <td>  244.542</td>\n",
       "</tr>\n",
       "<tr>\n",
       "  <th>rh[1]</th>     <td>   -1.7292</td> <td>    0.486</td> <td>   -3.557</td> <td> 0.000</td> <td>   -2.682</td> <td>   -0.776</td>\n",
       "</tr>\n",
       "<tr>\n",
       "  <th>rh[2]</th>     <td>    0.0321</td> <td>    0.007</td> <td>    4.433</td> <td> 0.000</td> <td>    0.018</td> <td>    0.046</td>\n",
       "</tr>\n",
       "<tr>\n",
       "  <th>rh[3]</th>     <td>   -0.0002</td> <td> 3.51e-05</td> <td>   -4.340</td> <td> 0.000</td> <td>   -0.000</td> <td>-8.34e-05</td>\n",
       "</tr>\n",
       "</table>\n",
       "<table class=\"simpletable\">\n",
       "<tr>\n",
       "  <th>Omnibus:</th>       <td>707.867</td> <th>  Durbin-Watson:     </th> <td>   1.998</td>\n",
       "</tr>\n",
       "<tr>\n",
       "  <th>Prob(Omnibus):</th> <td> 0.000</td>  <th>  Jarque-Bera (JB):  </th> <td> 302.057</td>\n",
       "</tr>\n",
       "<tr>\n",
       "  <th>Skew:</th>          <td> 0.223</td>  <th>  Prob(JB):          </th> <td>2.56e-66</td>\n",
       "</tr>\n",
       "<tr>\n",
       "  <th>Kurtosis:</th>      <td> 2.253</td>  <th>  Cond. No.          </th> <td>4.78e+18</td>\n",
       "</tr>\n",
       "</table><br/><br/>Notes:<br/>[1] Standard Errors assume that the covariance matrix of the errors is correctly specified.<br/>[2] The smallest eigenvalue is 1.03e-22. This might indicate that there are<br/>strong multicollinearity problems or that the design matrix is singular."
      ],
      "text/plain": [
       "<class 'statsmodels.iolib.summary.Summary'>\n",
       "\"\"\"\n",
       "                            OLS Regression Results                            \n",
       "==============================================================================\n",
       "Dep. Variable:                     PE   R-squared:                       0.154\n",
       "Model:                            OLS   Adj. R-squared:                  0.153\n",
       "Method:                 Least Squares   F-statistic:                     579.2\n",
       "Date:                Fri, 11 Feb 2022   Prob (F-statistic):               0.00\n",
       "Time:                        22:56:41   Log-Likelihood:                -39923.\n",
       "No. Observations:                9568   AIC:                         7.985e+04\n",
       "Df Residuals:                    9564   BIC:                         7.988e+04\n",
       "Df Model:                           3                                         \n",
       "Covariance Type:            nonrobust                                         \n",
       "==============================================================================\n",
       "                 coef    std err          t      P>|t|      [0.025      0.975]\n",
       "------------------------------------------------------------------------------\n",
       "Intercept    234.2068      5.272     44.422      0.000     223.872     244.542\n",
       "rh[0]        234.2068      5.272     44.422      0.000     223.872     244.542\n",
       "rh[1]         -1.7292      0.486     -3.557      0.000      -2.682      -0.776\n",
       "rh[2]          0.0321      0.007      4.433      0.000       0.018       0.046\n",
       "rh[3]         -0.0002   3.51e-05     -4.340      0.000      -0.000   -8.34e-05\n",
       "==============================================================================\n",
       "Omnibus:                      707.867   Durbin-Watson:                   1.998\n",
       "Prob(Omnibus):                  0.000   Jarque-Bera (JB):              302.057\n",
       "Skew:                           0.223   Prob(JB):                     2.56e-66\n",
       "Kurtosis:                       2.253   Cond. No.                     4.78e+18\n",
       "==============================================================================\n",
       "\n",
       "Notes:\n",
       "[1] Standard Errors assume that the covariance matrix of the errors is correctly specified.\n",
       "[2] The smallest eigenvalue is 1.03e-22. This might indicate that there are\n",
       "strong multicollinearity problems or that the design matrix is singular.\n",
       "\"\"\""
      ]
     },
     "execution_count": 50,
     "metadata": {},
     "output_type": "execute_result"
    },
    {
     "data": {
      "image/png": "[encoded data removed]",
      "text/plain": [
       "<Figure size 432x288 with 1 Axes>"
      ]
     },
     "metadata": {
      "needs_background": "light"
     },
     "output_type": "display_data"
    }
   ],
   "source": [
    "df1=data['RH']\n",
    "df2=data['PE']\n",
    "poly=PolynomialFeatures(degree=3)\n",
    "df1=pd.DataFrame(df1)\n",
    "rh=poly.fit_transform(df1)\n",
    "\n",
    "LinearModel4=smf.ols('PE~rh',data).fit()\n",
    "prediction_done=LinearModel4.predict(data)\n",
    "\n",
    "\n",
    "plt.scatter(data['RH'],data['PE'])\n",
    "plt.plot(data['RH'],prediction_done,color='red',linewidth=.001)\n",
    "plt.xlabel('Values for RH (Humidity)')\n",
    "plt.ylabel('Values for PE (Energy Output)')\n",
    "LinearModel4.summary()"
   ]
  },
  {
   "cell_type": "markdown",
   "id": "989ebe60",
   "metadata": {},
   "source": [
    "### We can clearly see that there is non linear association between the AT and PE, AP and PE, RH and PE. In case of V, V**2 is not significant for the model because it has p value greater than .05(threshold) value."
   ]
  },
  {
   "cell_type": "markdown",
   "id": "b3038130",
   "metadata": {},
   "source": [
    "## G)"
   ]
  },
  {
   "cell_type": "code",
   "execution_count": 51,
   "id": "7677cfef",
   "metadata": {},
   "outputs": [
    {
     "data": {
      "text/html": [
       "<table class=\"simpletable\">\n",
       "<caption>OLS Regression Results</caption>\n",
       "<tr>\n",
       "  <th>Dep. Variable:</th>           <td>PE</td>        <th>  R-squared:         </th> <td>   0.936</td> \n",
       "</tr>\n",
       "<tr>\n",
       "  <th>Model:</th>                   <td>OLS</td>       <th>  Adj. R-squared:    </th> <td>   0.936</td> \n",
       "</tr>\n",
       "<tr>\n",
       "  <th>Method:</th>             <td>Least Squares</td>  <th>  F-statistic:       </th> <td>1.405e+04</td>\n",
       "</tr>\n",
       "<tr>\n",
       "  <th>Date:</th>             <td>Fri, 11 Feb 2022</td> <th>  Prob (F-statistic):</th>  <td>  0.00</td>  \n",
       "</tr>\n",
       "<tr>\n",
       "  <th>Time:</th>                 <td>22:56:41</td>     <th>  Log-Likelihood:    </th> <td> -27548.</td> \n",
       "</tr>\n",
       "<tr>\n",
       "  <th>No. Observations:</th>      <td>  9568</td>      <th>  AIC:               </th> <td>5.512e+04</td>\n",
       "</tr>\n",
       "<tr>\n",
       "  <th>Df Residuals:</th>          <td>  9557</td>      <th>  BIC:               </th> <td>5.520e+04</td>\n",
       "</tr>\n",
       "<tr>\n",
       "  <th>Df Model:</th>              <td>    10</td>      <th>                     </th>     <td> </td>    \n",
       "</tr>\n",
       "<tr>\n",
       "  <th>Covariance Type:</th>      <td>nonrobust</td>    <th>                     </th>     <td> </td>    \n",
       "</tr>\n",
       "</table>\n",
       "<table class=\"simpletable\">\n",
       "<tr>\n",
       "      <td></td>         <th>coef</th>     <th>std err</th>      <th>t</th>      <th>P>|t|</th>  <th>[0.025</th>    <th>0.975]</th>  \n",
       "</tr>\n",
       "<tr>\n",
       "  <th>Intercept</th> <td>  685.7825</td> <td>   78.640</td> <td>    8.721</td> <td> 0.000</td> <td>  531.631</td> <td>  839.934</td>\n",
       "</tr>\n",
       "<tr>\n",
       "  <th>AT</th>        <td>   -4.3470</td> <td>    2.373</td> <td>   -1.832</td> <td> 0.067</td> <td>   -8.999</td> <td>    0.305</td>\n",
       "</tr>\n",
       "<tr>\n",
       "  <th>V</th>         <td>   -7.6749</td> <td>    1.351</td> <td>   -5.682</td> <td> 0.000</td> <td>  -10.323</td> <td>   -5.027</td>\n",
       "</tr>\n",
       "<tr>\n",
       "  <th>AP</th>        <td>   -0.1524</td> <td>    0.077</td> <td>   -1.983</td> <td> 0.047</td> <td>   -0.303</td> <td>   -0.002</td>\n",
       "</tr>\n",
       "<tr>\n",
       "  <th>RH</th>        <td>    1.5709</td> <td>    0.773</td> <td>    2.031</td> <td> 0.042</td> <td>    0.055</td> <td>    3.087</td>\n",
       "</tr>\n",
       "<tr>\n",
       "  <th>AT:RH</th>     <td>   -0.0052</td> <td>    0.001</td> <td>   -6.444</td> <td> 0.000</td> <td>   -0.007</td> <td>   -0.004</td>\n",
       "</tr>\n",
       "<tr>\n",
       "  <th>AT:AP</th>     <td>    0.0018</td> <td>    0.002</td> <td>    0.752</td> <td> 0.452</td> <td>   -0.003</td> <td>    0.006</td>\n",
       "</tr>\n",
       "<tr>\n",
       "  <th>AT:V</th>      <td>    0.0210</td> <td>    0.001</td> <td>   23.338</td> <td> 0.000</td> <td>    0.019</td> <td>    0.023</td>\n",
       "</tr>\n",
       "<tr>\n",
       "  <th>V:AP</th>      <td>    0.0068</td> <td>    0.001</td> <td>    5.135</td> <td> 0.000</td> <td>    0.004</td> <td>    0.009</td>\n",
       "</tr>\n",
       "<tr>\n",
       "  <th>V:RH</th>      <td>    0.0008</td> <td>    0.000</td> <td>    1.716</td> <td> 0.086</td> <td>   -0.000</td> <td>    0.002</td>\n",
       "</tr>\n",
       "<tr>\n",
       "  <th>AP:RH</th>     <td>   -0.0016</td> <td>    0.001</td> <td>   -2.125</td> <td> 0.034</td> <td>   -0.003</td> <td>   -0.000</td>\n",
       "</tr>\n",
       "</table>\n",
       "<table class=\"simpletable\">\n",
       "<tr>\n",
       "  <th>Omnibus:</th>       <td>1454.609</td> <th>  Durbin-Watson:     </th> <td>   2.030</td>\n",
       "</tr>\n",
       "<tr>\n",
       "  <th>Prob(Omnibus):</th>  <td> 0.000</td>  <th>  Jarque-Bera (JB):  </th> <td>9170.848</td>\n",
       "</tr>\n",
       "<tr>\n",
       "  <th>Skew:</th>           <td>-0.574</td>  <th>  Prob(JB):          </th> <td>    0.00</td>\n",
       "</tr>\n",
       "<tr>\n",
       "  <th>Kurtosis:</th>       <td> 7.657</td>  <th>  Cond. No.          </th> <td>1.70e+08</td>\n",
       "</tr>\n",
       "</table><br/><br/>Notes:<br/>[1] Standard Errors assume that the covariance matrix of the errors is correctly specified.<br/>[2] The condition number is large, 1.7e+08. This might indicate that there are<br/>strong multicollinearity or other numerical problems."
      ],
      "text/plain": [
       "<class 'statsmodels.iolib.summary.Summary'>\n",
       "\"\"\"\n",
       "                            OLS Regression Results                            \n",
       "==============================================================================\n",
       "Dep. Variable:                     PE   R-squared:                       0.936\n",
       "Model:                            OLS   Adj. R-squared:                  0.936\n",
       "Method:                 Least Squares   F-statistic:                 1.405e+04\n",
       "Date:                Fri, 11 Feb 2022   Prob (F-statistic):               0.00\n",
       "Time:                        22:56:41   Log-Likelihood:                -27548.\n",
       "No. Observations:                9568   AIC:                         5.512e+04\n",
       "Df Residuals:                    9557   BIC:                         5.520e+04\n",
       "Df Model:                          10                                         \n",
       "Covariance Type:            nonrobust                                         \n",
       "==============================================================================\n",
       "                 coef    std err          t      P>|t|      [0.025      0.975]\n",
       "------------------------------------------------------------------------------\n",
       "Intercept    685.7825     78.640      8.721      0.000     531.631     839.934\n",
       "AT            -4.3470      2.373     -1.832      0.067      -8.999       0.305\n",
       "V             -7.6749      1.351     -5.682      0.000     -10.323      -5.027\n",
       "AP            -0.1524      0.077     -1.983      0.047      -0.303      -0.002\n",
       "RH             1.5709      0.773      2.031      0.042       0.055       3.087\n",
       "AT:RH         -0.0052      0.001     -6.444      0.000      -0.007      -0.004\n",
       "AT:AP          0.0018      0.002      0.752      0.452      -0.003       0.006\n",
       "AT:V           0.0210      0.001     23.338      0.000       0.019       0.023\n",
       "V:AP           0.0068      0.001      5.135      0.000       0.004       0.009\n",
       "V:RH           0.0008      0.000      1.716      0.086      -0.000       0.002\n",
       "AP:RH         -0.0016      0.001     -2.125      0.034      -0.003      -0.000\n",
       "==============================================================================\n",
       "Omnibus:                     1454.609   Durbin-Watson:                   2.030\n",
       "Prob(Omnibus):                  0.000   Jarque-Bera (JB):             9170.848\n",
       "Skew:                          -0.574   Prob(JB):                         0.00\n",
       "Kurtosis:                       7.657   Cond. No.                     1.70e+08\n",
       "==============================================================================\n",
       "\n",
       "Notes:\n",
       "[1] Standard Errors assume that the covariance matrix of the errors is correctly specified.\n",
       "[2] The condition number is large, 1.7e+08. This might indicate that there are\n",
       "strong multicollinearity or other numerical problems.\n",
       "\"\"\""
      ]
     },
     "execution_count": 51,
     "metadata": {},
     "output_type": "execute_result"
    }
   ],
   "source": [
    "LinearModel_g=smf.ols('PE~AT+V+AP+RH + AT*RH +AT*AP +AT*V + V*AP +V*RH +AP*RH',data).fit()\n",
    "prediction_done=LinearModel_g.predict(data)\n",
    "# plt.scatter(data['AP'],data['PE'])\n",
    "# plt.plot(data['AP'],prediction_done,color='red')\n",
    "# plt.xlabel('Values for AP (Ambiennt Pressure)')\n",
    "# plt.ylabel('Values for PE (Energy Output)')\n",
    "\n",
    "LinearModel_g.summary()\n",
    "\n"
   ]
  },
  {
   "cell_type": "markdown",
   "id": "2de2130e",
   "metadata": {},
   "source": [
    "### We can clearly see that the pvalue of (AT-RH), (AT-V), (V-AP), (AP-RH) is quite below .05. Hence, these pairwise interactions are statistically significant."
   ]
  },
  {
   "cell_type": "markdown",
   "id": "bfaa460a",
   "metadata": {},
   "source": [
    "## H)"
   ]
  },
  {
   "cell_type": "code",
   "execution_count": 52,
   "id": "a0368949",
   "metadata": {},
   "outputs": [],
   "source": [
    "data_train,data_test=train_test_split(data,test_size=.3,random_state=0)"
   ]
  },
  {
   "cell_type": "code",
   "execution_count": 53,
   "id": "5bd00f2c",
   "metadata": {},
   "outputs": [
    {
     "name": "stdout",
     "output_type": "stream",
     "text": [
      "Training MSE -> 20.941563616739586\n",
      "Testing MSE -> 20.36838300288591\n"
     ]
    }
   ],
   "source": [
    "X=data.loc[:,'AT':'RH']\n",
    "y=data['PE']\n",
    "\n",
    "X_train,X_test,y_train,y_test=train_test_split(X,y,test_size=.3,random_state=0)\n",
    "#Fitting Model\n",
    "linear_model  = smf.ols(\"PE ~ AT + V + AP + RH\", data_train).fit()\n",
    "\n",
    "#Prediction on train data and computing mse.\n",
    "\n",
    "prediction2=linear_model.predict(data_train)\n",
    "print('Training MSE ->',mean_squared_error( y_train,prediction2))\n",
    "\n",
    "#Prediction on test data and computing mse.\n",
    "prediction=linear_model.predict(data_test)\n",
    "rms_error = rmse(y_test, prediction)\n",
    "Complete_reg_MSE=mean_squared_error(y_test, prediction)\n",
    "print('Testing MSE ->',Complete_reg_MSE)\n",
    "# Here we have built a multiple regression model with all independent variables.\n",
    "# Now, In next step we will built a regression model with all interactions as well as quadratic terms."
   ]
  },
  {
   "cell_type": "code",
   "execution_count": 54,
   "id": "f7ebe40c",
   "metadata": {},
   "outputs": [
    {
     "name": "stdout",
     "output_type": "stream",
     "text": [
      "Testing MSE-> 20.36838300288591\n"
     ]
    },
    {
     "data": {
      "text/html": [
       "<table class=\"simpletable\">\n",
       "<caption>OLS Regression Results</caption>\n",
       "<tr>\n",
       "  <th>Dep. Variable:</th>           <td>PE</td>        <th>  R-squared:         </th> <td>   0.937</td> \n",
       "</tr>\n",
       "<tr>\n",
       "  <th>Model:</th>                   <td>OLS</td>       <th>  Adj. R-squared:    </th> <td>   0.937</td> \n",
       "</tr>\n",
       "<tr>\n",
       "  <th>Method:</th>             <td>Least Squares</td>  <th>  F-statistic:       </th> <td>   7075.</td> \n",
       "</tr>\n",
       "<tr>\n",
       "  <th>Date:</th>             <td>Fri, 11 Feb 2022</td> <th>  Prob (F-statistic):</th>  <td>  0.00</td>  \n",
       "</tr>\n",
       "<tr>\n",
       "  <th>Time:</th>                 <td>22:56:41</td>     <th>  Log-Likelihood:    </th> <td> -19248.</td> \n",
       "</tr>\n",
       "<tr>\n",
       "  <th>No. Observations:</th>      <td>  6697</td>      <th>  AIC:               </th> <td>3.853e+04</td>\n",
       "</tr>\n",
       "<tr>\n",
       "  <th>Df Residuals:</th>          <td>  6682</td>      <th>  BIC:               </th> <td>3.863e+04</td>\n",
       "</tr>\n",
       "<tr>\n",
       "  <th>Df Model:</th>              <td>    14</td>      <th>                     </th>     <td> </td>    \n",
       "</tr>\n",
       "<tr>\n",
       "  <th>Covariance Type:</th>      <td>nonrobust</td>    <th>                     </th>     <td> </td>    \n",
       "</tr>\n",
       "</table>\n",
       "<table class=\"simpletable\">\n",
       "<tr>\n",
       "       <td></td>         <th>coef</th>     <th>std err</th>      <th>t</th>      <th>P>|t|</th>  <th>[0.025</th>    <th>0.975]</th>  \n",
       "</tr>\n",
       "<tr>\n",
       "  <th>Intercept</th>  <td>-7073.1567</td> <td> 1505.522</td> <td>   -4.698</td> <td> 0.000</td> <td>   -1e+04</td> <td>-4121.854</td>\n",
       "</tr>\n",
       "<tr>\n",
       "  <th>AT</th>         <td>   -6.3067</td> <td>    3.826</td> <td>   -1.648</td> <td> 0.099</td> <td>  -13.807</td> <td>    1.194</td>\n",
       "</tr>\n",
       "<tr>\n",
       "  <th>V</th>          <td>   -2.7832</td> <td>    1.818</td> <td>   -1.531</td> <td> 0.126</td> <td>   -6.347</td> <td>    0.780</td>\n",
       "</tr>\n",
       "<tr>\n",
       "  <th>AP</th>         <td>   14.8033</td> <td>    2.916</td> <td>    5.076</td> <td> 0.000</td> <td>    9.086</td> <td>   20.521</td>\n",
       "</tr>\n",
       "<tr>\n",
       "  <th>RH</th>         <td>    3.3825</td> <td>    1.086</td> <td>    3.114</td> <td> 0.002</td> <td>    1.253</td> <td>    5.512</td>\n",
       "</tr>\n",
       "<tr>\n",
       "  <th>I(AT ** 2)</th> <td>    0.0168</td> <td>    0.004</td> <td>    4.482</td> <td> 0.000</td> <td>    0.009</td> <td>    0.024</td>\n",
       "</tr>\n",
       "<tr>\n",
       "  <th>AT:V</th>       <td>    0.0103</td> <td>    0.003</td> <td>    3.174</td> <td> 0.002</td> <td>    0.004</td> <td>    0.017</td>\n",
       "</tr>\n",
       "<tr>\n",
       "  <th>AT:AP</th>      <td>    0.0037</td> <td>    0.004</td> <td>    0.997</td> <td> 0.319</td> <td>   -0.004</td> <td>    0.011</td>\n",
       "</tr>\n",
       "<tr>\n",
       "  <th>AT:RH</th>      <td>   -0.0061</td> <td>    0.002</td> <td>   -3.305</td> <td> 0.001</td> <td>   -0.010</td> <td>   -0.002</td>\n",
       "</tr>\n",
       "<tr>\n",
       "  <th>V:AP</th>       <td>    0.0023</td> <td>    0.002</td> <td>    1.290</td> <td> 0.197</td> <td>   -0.001</td> <td>    0.006</td>\n",
       "</tr>\n",
       "<tr>\n",
       "  <th>V:RH</th>       <td>    0.0003</td> <td>    0.001</td> <td>    0.340</td> <td> 0.734</td> <td>   -0.001</td> <td>    0.002</td>\n",
       "</tr>\n",
       "<tr>\n",
       "  <th>AP:RH</th>      <td>   -0.0031</td> <td>    0.001</td> <td>   -2.934</td> <td> 0.003</td> <td>   -0.005</td> <td>   -0.001</td>\n",
       "</tr>\n",
       "<tr>\n",
       "  <th>I(V ** 2)</th>  <td>   -0.0005</td> <td>    0.001</td> <td>   -0.551</td> <td> 0.581</td> <td>   -0.002</td> <td>    0.001</td>\n",
       "</tr>\n",
       "<tr>\n",
       "  <th>I(AP ** 2)</th> <td>   -0.0072</td> <td>    0.001</td> <td>   -5.108</td> <td> 0.000</td> <td>   -0.010</td> <td>   -0.004</td>\n",
       "</tr>\n",
       "<tr>\n",
       "  <th>I(RH ** 2)</th> <td>   -0.0019</td> <td>    0.000</td> <td>   -5.901</td> <td> 0.000</td> <td>   -0.003</td> <td>   -0.001</td>\n",
       "</tr>\n",
       "</table>\n",
       "<table class=\"simpletable\">\n",
       "<tr>\n",
       "  <th>Omnibus:</th>       <td>1415.014</td> <th>  Durbin-Watson:     </th> <td>   2.013</td> \n",
       "</tr>\n",
       "<tr>\n",
       "  <th>Prob(Omnibus):</th>  <td> 0.000</td>  <th>  Jarque-Bera (JB):  </th> <td>12113.210</td>\n",
       "</tr>\n",
       "<tr>\n",
       "  <th>Skew:</th>           <td>-0.770</td>  <th>  Prob(JB):          </th> <td>    0.00</td> \n",
       "</tr>\n",
       "<tr>\n",
       "  <th>Kurtosis:</th>       <td> 9.406</td>  <th>  Cond. No.          </th> <td>2.96e+10</td> \n",
       "</tr>\n",
       "</table><br/><br/>Notes:<br/>[1] Standard Errors assume that the covariance matrix of the errors is correctly specified.<br/>[2] The condition number is large, 2.96e+10. This might indicate that there are<br/>strong multicollinearity or other numerical problems."
      ],
      "text/plain": [
       "<class 'statsmodels.iolib.summary.Summary'>\n",
       "\"\"\"\n",
       "                            OLS Regression Results                            \n",
       "==============================================================================\n",
       "Dep. Variable:                     PE   R-squared:                       0.937\n",
       "Model:                            OLS   Adj. R-squared:                  0.937\n",
       "Method:                 Least Squares   F-statistic:                     7075.\n",
       "Date:                Fri, 11 Feb 2022   Prob (F-statistic):               0.00\n",
       "Time:                        22:56:41   Log-Likelihood:                -19248.\n",
       "No. Observations:                6697   AIC:                         3.853e+04\n",
       "Df Residuals:                    6682   BIC:                         3.863e+04\n",
       "Df Model:                          14                                         \n",
       "Covariance Type:            nonrobust                                         \n",
       "==============================================================================\n",
       "                 coef    std err          t      P>|t|      [0.025      0.975]\n",
       "------------------------------------------------------------------------------\n",
       "Intercept  -7073.1567   1505.522     -4.698      0.000      -1e+04   -4121.854\n",
       "AT            -6.3067      3.826     -1.648      0.099     -13.807       1.194\n",
       "V             -2.7832      1.818     -1.531      0.126      -6.347       0.780\n",
       "AP            14.8033      2.916      5.076      0.000       9.086      20.521\n",
       "RH             3.3825      1.086      3.114      0.002       1.253       5.512\n",
       "I(AT ** 2)     0.0168      0.004      4.482      0.000       0.009       0.024\n",
       "AT:V           0.0103      0.003      3.174      0.002       0.004       0.017\n",
       "AT:AP          0.0037      0.004      0.997      0.319      -0.004       0.011\n",
       "AT:RH         -0.0061      0.002     -3.305      0.001      -0.010      -0.002\n",
       "V:AP           0.0023      0.002      1.290      0.197      -0.001       0.006\n",
       "V:RH           0.0003      0.001      0.340      0.734      -0.001       0.002\n",
       "AP:RH         -0.0031      0.001     -2.934      0.003      -0.005      -0.001\n",
       "I(V ** 2)     -0.0005      0.001     -0.551      0.581      -0.002       0.001\n",
       "I(AP ** 2)    -0.0072      0.001     -5.108      0.000      -0.010      -0.004\n",
       "I(RH ** 2)    -0.0019      0.000     -5.901      0.000      -0.003      -0.001\n",
       "==============================================================================\n",
       "Omnibus:                     1415.014   Durbin-Watson:                   2.013\n",
       "Prob(Omnibus):                  0.000   Jarque-Bera (JB):            12113.210\n",
       "Skew:                          -0.770   Prob(JB):                         0.00\n",
       "Kurtosis:                       9.406   Cond. No.                     2.96e+10\n",
       "==============================================================================\n",
       "\n",
       "Notes:\n",
       "[1] Standard Errors assume that the covariance matrix of the errors is correctly specified.\n",
       "[2] The condition number is large, 2.96e+10. This might indicate that there are\n",
       "strong multicollinearity or other numerical problems.\n",
       "\"\"\""
      ]
     },
     "execution_count": 54,
     "metadata": {},
     "output_type": "execute_result"
    }
   ],
   "source": [
    "df1=data['AT']\n",
    "df2=data['V']\n",
    "df3=data['AP']\n",
    "df4=data['RH']\n",
    "df5=data['PE']\n",
    "\n",
    "\n",
    "# poly=PolynomialFeatures(degree=2)\n",
    "\n",
    "# df1=pd.DataFrame(df1)\n",
    "# df2=pd.DataFrame(df2)\n",
    "# df3=pd.DataFrame(df3)\n",
    "# df4=pd.DataFrame(df4)\n",
    "\n",
    "# at=poly.fit_transform(df1)\n",
    "# v=poly.fit_transform(df2)\n",
    "# ap=poly.fit_transform(df3)\n",
    "# rh=poly.fit_transform(df4)\n",
    "\n",
    "LinearModel_H=smf.ols('PE ~ AT + V + AP + RH + I(AT**2) + AT*V + AT*AP + AT*RH + V*AP + V*RH + AP*RH  + I(V**2) + I(AP**2) + I(RH**2)',data_train).fit()\n",
    "prediction_done=LinearModel_H.predict(data_test)\n",
    "#rms_error = rmse(y_test, prediction)\n",
    "print('Testing MSE->',mean_squared_error(y_test, prediction))\n",
    "\n",
    "LinearModel_H.summary()"
   ]
  },
  {
   "cell_type": "markdown",
   "id": "097a40da",
   "metadata": {},
   "source": [
    "### Here we will remove those terms whose p value is greater than .05 because it won't be significant for model. We will remove : V**2 AT,V,AT:AP, V:AP, V:RH"
   ]
  },
  {
   "cell_type": "code",
   "execution_count": 55,
   "id": "4addbc47",
   "metadata": {},
   "outputs": [
    {
     "name": "stdout",
     "output_type": "stream",
     "text": [
      "Training MSE -> 18.39935579904325\n",
      "Testing MSE -> 17.56566959660093\n"
     ]
    }
   ],
   "source": [
    "linear_model_H2=smf.ols('PE ~ V+ AT + AP + RH + I(AT**2) + AT*V  + AT*RH + AP*RH  + I(AP**2) + I(RH**2) ',data_train).fit()\n",
    "\n",
    "#Prediction on train data and computing mse.\n",
    "\n",
    "prediction2=linear_model_H2.predict(data_train)\n",
    "print('Training MSE ->',mean_squared_error( y_train,prediction2))\n",
    "\n",
    "#Prediction on test data and computing mse.\n",
    "prediction=linear_model_H2.predict(data_test)\n",
    "rms_error = rmse(y_test, prediction)\n",
    "MSE_removed_features=mean_squared_error(y_test, prediction)\n",
    "print('Testing MSE ->',MSE_removed_features)\n",
    "# print(mean_squared_error(y_test, prediction))\n"
   ]
  },
  {
   "cell_type": "code",
   "execution_count": 56,
   "id": "f708fe66",
   "metadata": {},
   "outputs": [],
   "source": [
    "## After removing the specific columns our mean square error is getting decreased which was desirable.\n",
    "## Significant Features:  V, AT , AP , RH , (AT**2) , AT*V  , AT*RH , AP*RH ,(AP**2) ,(RH**2) "
   ]
  },
  {
   "cell_type": "markdown",
   "id": "3b526722",
   "metadata": {},
   "source": [
    "## I) KNN Regression"
   ]
  },
  {
   "cell_type": "markdown",
   "id": "b1fcec6c",
   "metadata": {},
   "source": [
    "### a)Doing without normalizing the data"
   ]
  },
  {
   "cell_type": "code",
   "execution_count": 57,
   "id": "e34bfa37",
   "metadata": {},
   "outputs": [],
   "source": [
    "X=data.loc[:,'AT':'RH']\n",
    "y=data['PE']\n"
   ]
  },
  {
   "cell_type": "code",
   "execution_count": 58,
   "id": "50814e89",
   "metadata": {},
   "outputs": [],
   "source": [
    "X_train, X_test, y_train, y_test = train_test_split(X, y, test_size=0.3,random_state=0)\n",
    "# SPlitting the data"
   ]
  },
  {
   "cell_type": "code",
   "execution_count": 59,
   "id": "c7e88605",
   "metadata": {},
   "outputs": [
    {
     "data": {
      "text/html": [
       "<div>\n",
       "<style scoped>\n",
       "    .dataframe tbody tr th:only-of-type {\n",
       "        vertical-align: middle;\n",
       "    }\n",
       "\n",
       "    .dataframe tbody tr th {\n",
       "        vertical-align: top;\n",
       "    }\n",
       "\n",
       "    .dataframe thead th {\n",
       "        text-align: right;\n",
       "    }\n",
       "</style>\n",
       "<table border=\"1\" class=\"dataframe\">\n",
       "  <thead>\n",
       "    <tr style=\"text-align: right;\">\n",
       "      <th></th>\n",
       "      <th>AT</th>\n",
       "      <th>V</th>\n",
       "      <th>AP</th>\n",
       "      <th>RH</th>\n",
       "    </tr>\n",
       "  </thead>\n",
       "  <tbody>\n",
       "    <tr>\n",
       "      <th>4507</th>\n",
       "      <td>15.83</td>\n",
       "      <td>41.67</td>\n",
       "      <td>1013.39</td>\n",
       "      <td>74.12</td>\n",
       "    </tr>\n",
       "    <tr>\n",
       "      <th>287</th>\n",
       "      <td>22.56</td>\n",
       "      <td>62.26</td>\n",
       "      <td>1012.11</td>\n",
       "      <td>63.16</td>\n",
       "    </tr>\n",
       "    <tr>\n",
       "      <th>4018</th>\n",
       "      <td>22.11</td>\n",
       "      <td>59.80</td>\n",
       "      <td>1016.86</td>\n",
       "      <td>70.14</td>\n",
       "    </tr>\n",
       "    <tr>\n",
       "      <th>4624</th>\n",
       "      <td>19.96</td>\n",
       "      <td>56.03</td>\n",
       "      <td>1020.59</td>\n",
       "      <td>64.95</td>\n",
       "    </tr>\n",
       "    <tr>\n",
       "      <th>8507</th>\n",
       "      <td>21.70</td>\n",
       "      <td>70.32</td>\n",
       "      <td>1009.12</td>\n",
       "      <td>91.30</td>\n",
       "    </tr>\n",
       "    <tr>\n",
       "      <th>...</th>\n",
       "      <td>...</td>\n",
       "      <td>...</td>\n",
       "      <td>...</td>\n",
       "      <td>...</td>\n",
       "    </tr>\n",
       "    <tr>\n",
       "      <th>7891</th>\n",
       "      <td>16.21</td>\n",
       "      <td>50.90</td>\n",
       "      <td>1012.46</td>\n",
       "      <td>84.45</td>\n",
       "    </tr>\n",
       "    <tr>\n",
       "      <th>9225</th>\n",
       "      <td>13.85</td>\n",
       "      <td>44.90</td>\n",
       "      <td>1019.11</td>\n",
       "      <td>76.79</td>\n",
       "    </tr>\n",
       "    <tr>\n",
       "      <th>4859</th>\n",
       "      <td>16.81</td>\n",
       "      <td>38.52</td>\n",
       "      <td>1018.26</td>\n",
       "      <td>75.21</td>\n",
       "    </tr>\n",
       "    <tr>\n",
       "      <th>3264</th>\n",
       "      <td>12.80</td>\n",
       "      <td>41.16</td>\n",
       "      <td>1022.43</td>\n",
       "      <td>86.19</td>\n",
       "    </tr>\n",
       "    <tr>\n",
       "      <th>2732</th>\n",
       "      <td>32.32</td>\n",
       "      <td>67.90</td>\n",
       "      <td>1006.08</td>\n",
       "      <td>37.93</td>\n",
       "    </tr>\n",
       "  </tbody>\n",
       "</table>\n",
       "<p>6697 rows × 4 columns</p>\n",
       "</div>"
      ],
      "text/plain": [
       "         AT      V       AP     RH\n",
       "4507  15.83  41.67  1013.39  74.12\n",
       "287   22.56  62.26  1012.11  63.16\n",
       "4018  22.11  59.80  1016.86  70.14\n",
       "4624  19.96  56.03  1020.59  64.95\n",
       "8507  21.70  70.32  1009.12  91.30\n",
       "...     ...    ...      ...    ...\n",
       "7891  16.21  50.90  1012.46  84.45\n",
       "9225  13.85  44.90  1019.11  76.79\n",
       "4859  16.81  38.52  1018.26  75.21\n",
       "3264  12.80  41.16  1022.43  86.19\n",
       "2732  32.32  67.90  1006.08  37.93\n",
       "\n",
       "[6697 rows x 4 columns]"
      ]
     },
     "execution_count": 59,
     "metadata": {},
     "output_type": "execute_result"
    }
   ],
   "source": [
    "X_train\n",
    "#Checking the splitted data"
   ]
  },
  {
   "cell_type": "code",
   "execution_count": 60,
   "id": "ad259bbb",
   "metadata": {},
   "outputs": [],
   "source": [
    "final_list_test= [] # Storing mse values for different k\n",
    "final_list_train= [] \n",
    "for K in range(1,101,1):\n",
    "    temp_list1=[]\n",
    "    temp_list2=[]\n",
    "    model = KNeighborsRegressor(n_neighbors = K)\n",
    "\n",
    "    model.fit(X_train, y_train)  #fit the model\n",
    "    \n",
    "    predictions1=model.predict(X_test) # prediction on test set\n",
    "    error_test = (mean_squared_error(y_test,predictions1)) \n",
    "    temp_list1.append(K)\n",
    "    temp_list1.append(error_test)\n",
    "    \n",
    "    predictions2=model.predict(X_train) #prediction on train set\n",
    "    error_train=(mean_squared_error(y_train,predictions2)) \n",
    "    temp_list2.append(K)\n",
    "    temp_list2.append(error_train)\n",
    "    \n",
    "    final_list_test.append(temp_list1)#Store mse values along with its k\n",
    "    final_list_train.append(temp_list2)\n",
    "    #print('MSE value for k= ' , K , 'is:', error)\n"
   ]
  },
  {
   "cell_type": "code",
   "execution_count": 61,
   "id": "fb78abd7",
   "metadata": {},
   "outputs": [],
   "source": [
    "k_list=[]\n",
    "for i in range(1,101,1):\n",
    "    k_list.append(1/i)\n",
    "#Creating a lisk k with all values of k from 1 to 100"
   ]
  },
  {
   "cell_type": "code",
   "execution_count": 62,
   "id": "2bb4b730",
   "metadata": {},
   "outputs": [],
   "source": [
    "pl_test=[]\n",
    "for i in final_list_test:\n",
    "    pl_test.append(i[1])\n",
    "pl_train=[]\n",
    "for j in final_list_train:\n",
    "    pl_train.append(j[1])\n",
    "\n",
    "# Creating two list one is for test mse's and other one is for train mse's."
   ]
  },
  {
   "cell_type": "code",
   "execution_count": 63,
   "id": "06e08a50",
   "metadata": {},
   "outputs": [
    {
     "data": {
      "text/plain": [
       "<matplotlib.legend.Legend at 0x7f8446bc68b0>"
      ]
     },
     "execution_count": 63,
     "metadata": {},
     "output_type": "execute_result"
    },
    {
     "data": {
      "image/png": "[encoded data removed]",
      "text/plain": [
       "<Figure size 432x288 with 1 Axes>"
      ]
     },
     "metadata": {
      "needs_background": "light"
     },
     "output_type": "display_data"
    }
   ],
   "source": [
    "plt.plot(k_list,pl_test,label='test error')\n",
    "plt.plot(k_list,pl_train,label='train error')\n",
    "plt.ylabel('Mean Square Values')\n",
    "plt.xlabel('1/k')\n",
    "plt.legend()"
   ]
  },
  {
   "cell_type": "code",
   "execution_count": 64,
   "id": "50e71f9a",
   "metadata": {},
   "outputs": [],
   "source": [
    "Final_sorted_list=sorted(final_list_test,key=lambda x: (x[1],-x[0]))\n",
    "# Using lambda along with sorted method to sort the list in increasing order."
   ]
  },
  {
   "cell_type": "code",
   "execution_count": 65,
   "id": "a63e037d",
   "metadata": {},
   "outputs": [
    {
     "name": "stdout",
     "output_type": "stream",
     "text": [
      "With Knn Regressor model  best k is -> 5 and its MSE is-> 15.6635051689307\n"
     ]
    }
   ],
   "source": [
    "uu,vv=Final_sorted_list[0]\n",
    "print('With Knn Regressor model  best k is ->',uu,'and its MSE is->',vv)\n"
   ]
  },
  {
   "cell_type": "markdown",
   "id": "59fb8d19",
   "metadata": {},
   "source": [
    "### b) Now, we will normalize the data first then train our regression model"
   ]
  },
  {
   "cell_type": "code",
   "execution_count": 66,
   "id": "ee495d85",
   "metadata": {},
   "outputs": [],
   "source": [
    "scaler = StandardScaler()  # Scaling X_train and X_test\n",
    "X_train_scaled = scaler.fit_transform(X_train)\n",
    "X_test_scaled=scaler.fit_transform(X_test) "
   ]
  },
  {
   "cell_type": "code",
   "execution_count": 67,
   "id": "78a00aa7",
   "metadata": {},
   "outputs": [],
   "source": [
    "X_train=pd.DataFrame(X_train_scaled)\n",
    "X_test=pd.DataFrame(X_test_scaled)"
   ]
  },
  {
   "cell_type": "code",
   "execution_count": 68,
   "id": "e98396ef",
   "metadata": {},
   "outputs": [],
   "source": [
    "final_list_test= [] # Storing mse values for different k\n",
    "final_list_train= [] \n",
    "for K in range(1,101,1):\n",
    "    temp_list1=[]\n",
    "    temp_list2=[]\n",
    "    model = KNeighborsRegressor(n_neighbors = K)\n",
    "\n",
    "    model.fit(X_train, y_train)  #fit the model\n",
    "    \n",
    "    predictions1=model.predict(X_test) # prediction on test set\n",
    "    error_test = (mean_squared_error(y_test,predictions1)) \n",
    "    temp_list1.append(K)\n",
    "    temp_list1.append(error_test)\n",
    "    \n",
    "    predictions2=model.predict(X_train) #prediction on train set\n",
    "    error_train=(mean_squared_error(y_train,predictions2)) \n",
    "    temp_list2.append(K)\n",
    "    temp_list2.append(error_train)\n",
    "    \n",
    "    final_list_test.append(temp_list1)#Store mse values along with its k\n",
    "    final_list_train.append(temp_list2)\n",
    "    #print('MSE value for k= ' , K , 'is:', error)\n",
    "\n"
   ]
  },
  {
   "cell_type": "code",
   "execution_count": 69,
   "id": "0e49ca2a",
   "metadata": {},
   "outputs": [],
   "source": [
    "pl_test=[]\n",
    "for i in final_list_test:\n",
    "    pl_test.append(i[1])\n",
    "pl_train=[]\n",
    "for j in final_list_train:\n",
    "    pl_train.append(j[1])"
   ]
  },
  {
   "cell_type": "code",
   "execution_count": 70,
   "id": "eb96ecf7",
   "metadata": {},
   "outputs": [
    {
     "data": {
      "text/plain": [
       "<matplotlib.legend.Legend at 0x7f8421c42190>"
      ]
     },
     "execution_count": 70,
     "metadata": {},
     "output_type": "execute_result"
    },
    {
     "data": {
      "image/png": "[encoded data removed]",
      "text/plain": [
       "<Figure size 432x288 with 1 Axes>"
      ]
     },
     "metadata": {
      "needs_background": "light"
     },
     "output_type": "display_data"
    }
   ],
   "source": [
    "plt.plot(k_list,pl_test,label='test error')\n",
    "plt.plot(k_list,pl_train,label='train error')\n",
    "plt.ylabel('Mean Square Values')\n",
    "plt.xlabel('1/k')\n",
    "plt.legend()"
   ]
  },
  {
   "cell_type": "code",
   "execution_count": 71,
   "id": "b27a1ba2",
   "metadata": {},
   "outputs": [],
   "source": [
    "Final_sorted_list=sorted(final_list_test,key=lambda x: (x[1],-x[0]))\n",
    "# Using lambda along with sorted method to sort the list in increasing order."
   ]
  },
  {
   "cell_type": "code",
   "execution_count": 72,
   "id": "f79bc010",
   "metadata": {},
   "outputs": [
    {
     "name": "stdout",
     "output_type": "stream",
     "text": [
      "With Knn Regressor model  best k is -> 4 and its MSE is-> 14.486735225095789\n"
     ]
    }
   ],
   "source": [
    "u,v=Final_sorted_list[0]\n",
    "print('With Knn Regressor model  best k is ->',u,'and its MSE is->',v)"
   ]
  },
  {
   "cell_type": "code",
   "execution_count": 73,
   "id": "b667372a",
   "metadata": {},
   "outputs": [],
   "source": [
    "## So with normalization our MSE is getting reduced."
   ]
  },
  {
   "cell_type": "markdown",
   "id": "6af90289",
   "metadata": {},
   "source": [
    "## J) Comparing Linear Regression and KNN Regression model MSE errors."
   ]
  },
  {
   "cell_type": "code",
   "execution_count": 74,
   "id": "9022b9c5",
   "metadata": {},
   "outputs": [
    {
     "name": "stdout",
     "output_type": "stream",
     "text": [
      "+------------------------------------------------+---------------------------+\n",
      "| Model                                          |   Test Mean Squared Error |\n",
      "+================================================+===========================+\n",
      "| Complete Regression Model ('AT','V','AP','RH') |                   20.3684 |\n",
      "+------------------------------------------------+---------------------------+\n",
      "| Regression Model After removing some features  |                   17.5657 |\n",
      "+------------------------------------------------+---------------------------+\n",
      "| KNN regression without Normalization           |                   15.6635 |\n",
      "+------------------------------------------------+---------------------------+\n",
      "| KNN regression after Normalization             |                   14.4867 |\n",
      "+------------------------------------------------+---------------------------+\n"
     ]
    }
   ],
   "source": [
    "head= [\"Model\",\"Test Mean Squared Error\"]\n",
    "table= [[\"Complete Regression Model ('AT','V','AP','RH')\" ,Complete_reg_MSE],[\"Regression Model After removing some features\",MSE_removed_features],[\"KNN regression without Normalization\",vv],[\"KNN regression after Normalization\",v]]\n",
    "print(tabulate(table, headers=head, tablefmt=\"grid\"))"
   ]
  },
  {
   "cell_type": "markdown",
   "id": "1c0be102",
   "metadata": {},
   "source": [
    "### Here, we can clearly see that our Knn Regression model with normalization performed better than other models because it has the least MSE value. However, both models have their own characterstics as in Linear model we get summary method and using that method we can remove the insignificant features which could be very useful in many cases."
   ]
  }
 ],
 "metadata": {
  "kernelspec": {
   "display_name": "Python 3 (ipykernel)",
   "language": "python",
   "name": "python3"
  },
  "language_info": {
   "codemirror_mode": {
    "name": "ipython",
    "version": 3
   },
   "file_extension": ".py",
   "mimetype": "text/x-python",
   "name": "python",
   "nbconvert_exporter": "python",
   "pygments_lexer": "ipython3",
   "version": "3.9.7"
  }
 },
 "nbformat": 4,
 "nbformat_minor": 5
}
